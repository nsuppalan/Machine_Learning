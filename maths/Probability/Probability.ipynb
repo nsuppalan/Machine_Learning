{
 "cells": [
  {
   "cell_type": "markdown",
   "metadata": {},
   "source": [
    "\n",
    "## Probability and Random Processes\n",
    " ### Random Experiment\n",
    " A random experiment is a process by which we observe something uncertain. After the experiment the result of the experiment is known.\n",
    "   #### Trial\n",
    "   If a random experiment is repeated several times, we call each of them as trial. Thus a trial is a particular performance of a random experiment. In the example of tossing a coin, each trial will result in either heads or tails.\n",
    "   #### Outcome:\n",
    "   An outcome is the result of a  random experiment.\n",
    "   \n",
    "   #### Sample Space: \n",
    "   The set of all possible outcomes of a  random experiment is called sample space.\n",
    "\t\n",
    "   #### Event\n",
    "   An event **A** is subset of sample space **S** and we way that **A** __occurred__ if the actual outcome is in  **A**\n",
    "* example:: Before tossing a coin, you won't know whether you will get heads or tails. This is a random experiment. It's sample space is {__heads, tails__} usually denoted as {__H, T__}.  Another example is if toss a coin 3 times and observe the sequence of heads/tails. The sample space here may be defined as :S = {__(H, H, H), (H, H, T), (H, T, H), (T, H, H), (H, T, T), (T, H, T), (T, T, H), (T, T, T)__}. Let **A** can be an event that first flip is Heads.  It is indeed a subset of sample space.  A = {__(H, H, H), (H, H, T), (H, T, H)__, __(H, T, T)__}. saying that **A** occurs is the same thing as saying that the first flip is Heads.\n",
    "\n",
    "### Probability\n",
    "  A mathematical language for expressing degree of belief or uncertainties about events.\n",
    "  * *frequentist view*:: of probability is that it represents a long-run frequency over a large number of [Trial](Trial.md)s of a  random experiment. If we say a coin has 1/2 probability of heads, that means coin would land heads ~50% of time if we tossed it over and over and over.\n",
    "  * *bayesian view* :: Probability represents a degree of belief about the event in question. So that we can assign the probability to hypotheses like \"candidate A will win election\" or \"the defendant is not guilty\", even if it isn't possible to repeat the same election or crime over and over again.\n",
    "  \n",
    "   * *naive definition* :: The naive definition of probability of an event is to count the number of ways the event could happen and divide by the total number of possible outcomes for the experiment.\n",
    "   $$P_{naive}(A) = \\frac{|A|}{|S|} = \\frac{\\text{number of outcomes favorable to A}}{\\text{total number of outcomes in S}} $$\n",
    "   $$P_{naive}(A) = \\frac{4}{9} $$As there are 4 favorable outcomes to event A, and total number of outcomes in sample space is 9.\n",
    "\t\t\t\n",
    "   * *why naive* :: \n",
    "\t\t* Assumed that sample space is finite, and each outcomeis equally likely.\n",
    "\t\t* For example, Imagine two arguments: People think that either there is life on mars or there isn't. So they apply a 50:50 ratio without reasoning and make a conclusion that probability of life on mars is 1/2.  But by same logic probability of __intelligent__ life on mars is also 1/2. However, it is intuitively clear that latter should have strictly lower probability than former.\n",
    "\t* *where naive definition is applicable* :: \n",
    "        * Where there is __symmetry__ in problem that makes it equally likely. For example it is common to assume that coin is fair and there is equally likely to get a heads or tail due to physical symmetry of the coin. Unless mentioned, there is no doubt that a dice is fair and probability of getting any number from 1 to 6 is 1/6.\n",
    "\t\t* When the outcomes are equally likely by design. For example while conducting a survey of __n__ people in a population of __N__. A common goal is to obtain a simple random sample, which means that the n people are chosen randomly with all subsets of size n being equally likely.\n",
    "\t\t* When the naive definition serves a __null model__. In this case, we assume that naive definition applies and see what prediction we get and then compare them with real world observed data to asses if the hypothesis of equally likely outcomes is tenable.\n",
    "        \n",
    "Let's write some python code to use this definition. One quick think before we proceed is \n",
    "\n",
    "#### Bernoulli Trial\n",
    "A random experiment is called Bernoulli trial, after Jacon Bernoulli, when the possible outcomes are binary; they can be modelled as success or failure, yes or no, on or off. For example: a coin flip. Say success is when you get a heads and tails otherwise, or we can do vice versa.\n",
    "\n",
    "In the code below we simulate this coin flip as Bernoulli trial using `scipy.stats`. This code generates random variates. Argument *P* represent the probability of success and size represents number of trials (in this case, number of coin flips)\n",
    "P is 0.5 assuming coin is fair."
   ]
  },
  {
   "cell_type": "code",
   "execution_count": 4,
   "metadata": {},
   "outputs": [
    {
     "data": {
      "text/plain": [
       "array([0, 0, 1, 1, 0, 0, 0, 0, 0, 0])"
      ]
     },
     "execution_count": 4,
     "metadata": {},
     "output_type": "execute_result"
    }
   ],
   "source": [
    "from scipy.stats import bernoulli\n",
    "bernoulli.rvs(p=0.5, size=10)"
   ]
  },
  {
   "cell_type": "markdown",
   "metadata": {},
   "source": [
    "How many heads? (Assuming heads is success)"
   ]
  },
  {
   "cell_type": "code",
   "execution_count": 5,
   "metadata": {},
   "outputs": [
    {
     "data": {
      "text/plain": [
       "4"
      ]
     },
     "execution_count": 5,
     "metadata": {},
     "output_type": "execute_result"
    }
   ],
   "source": [
    "sum(bernoulli.rvs(p=0.5, size=10))"
   ]
  },
  {
   "cell_type": "markdown",
   "metadata": {},
   "source": [
    "A sequence of independent Bernoulli trials follows the **Binary Distribution**. So instead of summing the outcomes using the `bernoulli` object, we can use *Binomial Distribution* using the `binom` object. The code has three argument *n* again is the number of trials (e.g. number of coin flips), *p* is the probability of success, and *size* is the number of draws of the same experiment.  "
   ]
  },
  {
   "cell_type": "code",
   "execution_count": 6,
   "metadata": {},
   "outputs": [
    {
     "data": {
      "text/plain": [
       "array([8])"
      ]
     },
     "execution_count": 6,
     "metadata": {},
     "output_type": "execute_result"
    }
   ],
   "source": [
    "from scipy.stats import binom\n",
    "\n",
    "binom.rvs(n=10, p=0.5, size=1)"
   ]
  },
  {
   "cell_type": "markdown",
   "metadata": {},
   "source": [
    "So basically we are saying we got 7 heads out of 10 flips (10 trials), when experiment was performed once. Let's try the same experiments 10 times."
   ]
  },
  {
   "cell_type": "code",
   "execution_count": 7,
   "metadata": {},
   "outputs": [
    {
     "data": {
      "text/plain": [
       "array([6, 7, 5, 6, 5, 2, 4, 6, 6, 5])"
      ]
     },
     "execution_count": 7,
     "metadata": {},
     "output_type": "execute_result"
    }
   ],
   "source": [
    "binom.rvs(n=10, p=0.5, size=10)"
   ]
  },
  {
   "cell_type": "markdown",
   "metadata": {},
   "source": [
    "What if coin is not fair and biased towards tails, so we are more likely to get tails by say probability of 0.7, in that case, we will have probability of heads as 0.3"
   ]
  },
  {
   "cell_type": "code",
   "execution_count": 8,
   "metadata": {},
   "outputs": [
    {
     "data": {
      "text/plain": [
       "array([2, 4, 3, 1, 4, 2, 1, 6, 1, 3])"
      ]
     },
     "execution_count": 8,
     "metadata": {},
     "output_type": "execute_result"
    }
   ],
   "source": [
    "binom.rvs(n=10, p=0.3, size=10)"
   ]
  },
  {
   "cell_type": "markdown",
   "metadata": {},
   "source": [
    "The reason the random modules are called pseudo-random because we can generate the same set of sequence by setting a random seed. The sequence of random numbers we get from a seed will always be same. We can set the random seed either by using `random_state` parameter like:"
   ]
  },
  {
   "cell_type": "code",
   "execution_count": 9,
   "metadata": {},
   "outputs": [
    {
     "data": {
      "text/plain": [
       "array([2, 5, 4, 3, 2, 2, 1, 5, 3, 4])"
      ]
     },
     "execution_count": 9,
     "metadata": {},
     "output_type": "execute_result"
    }
   ],
   "source": [
    "binom.rvs(n=10, p=0.3, size=10, random_state=42)"
   ]
  },
  {
   "cell_type": "markdown",
   "metadata": {},
   "source": [
    "or we can use the `np.random.seed`"
   ]
  },
  {
   "cell_type": "code",
   "execution_count": 10,
   "metadata": {},
   "outputs": [
    {
     "data": {
      "text/plain": [
       "array([2, 5, 4, 3, 2, 2, 1, 5, 3, 4])"
      ]
     },
     "execution_count": 10,
     "metadata": {},
     "output_type": "execute_result"
    }
   ],
   "source": [
    "import numpy as np\n",
    "np.random.seed(42)\n",
    "binom.rvs(n=10, p=0.3, size=10)"
   ]
  },
  {
   "cell_type": "markdown",
   "metadata": {},
   "source": [
    "Notice that both sequences are same."
   ]
  },
  {
   "cell_type": "markdown",
   "metadata": {},
   "source": [
    "## Random Variable\n",
    "\n",
    "A random variable is a real-valued variable whose value is determined by an underlying random experiment.\n",
    "Let's consider an example: I toss a coin 5 times. This is a random experiment, and the sample space of the experiment will be :\n",
    "\n",
    "$$\n",
    "\\text{S} = \\{\\textit{HHHHH}, \\textit{HHHHT}, ....., \\textit{TTTTT}\\}\n",
    "$$\n",
    "\n",
    "The sample space will have $2^{5} = 32$ elements. Suppose in this experiment, we are interested in number of heads. This can be done by defining a random variable ***X*** whose value is the number of heads observed. The value of ***X*** will be 0, 1, 2, 3, 4 or 5, depending on the outcome of the experiment.\n",
    "\n",
    "To put it in other words based on the above example, a random variable is a real-valued function that assigns a numerical value to each possible outcome of the random experiment. For instance, the random variable ***X*** defined above assigns following values to the outcomes.\n",
    "\n",
    "| Outcome |     X     |\n",
    "| :------------: | :----------: |\n",
    "| HHHHH| 5 |\n",
    "| HHHHT| 4 |\n",
    "| ..   | ..|\n",
    "| TTTTH| 1 |\n",
    "| TTTTT| 5 |\n",
    "\n",
    "Thus,  a random variable X is a function from the sample space to the real numbers.\n",
    "$$\n",
    "    X: S \\rightarrow \\mathbb{R}\n",
    "$$\n",
    "\n",
    "Random variables are usually denoted by capital letters such as ***X***, ***Y*** and  ***Z***. Since the *Random Variables* are actually functions, it's range can be defined. The range of random variable ***X*** shown by Range(***X***) or $\\textit{R_{x}}$ is the set of all possible values of ***X***. In the above example, $Range(X) = R_{x} = \\{0, 1, 2, 3, 4, 5\\}$\n",
    "\n",
    "Random Variables are usually of two kinds discrete random variables and continuous random variables. Continous Random Varaibles are covered [later](#Continuous-Random-Variable) in the notebook.\n",
    "\n",
    "## Discrete Random Variable\n",
    "\n",
    "Discrete Random Variable are random variables whose range is countable set. The above example is clearly a discrete random variable. However if we define ***Y*** as a random variable accounting for amount of rain in Seattle today. This is not countable, hence ***Y*** is not a discrete random variable, it is in fact a continous random variable which we will discuss later."
   ]
  },
  {
   "cell_type": "markdown",
   "metadata": {},
   "source": [
    "After conducting many random experiments, you will notice that some outcomes are more likely than others. This is called a **Probability Distribution**. There are two important functions for probability calculations with multiple random experiments:\n",
    "\n",
    "- The Probability Mass Function (PMF)\n",
    "- The Cumulative Distribution Function (CDF)\n",
    "\n",
    "### Probability Mass Function\n",
    "The PMF allows you to calculate the probability of getting a particular outcome for a *discrete random variable.* For e.g. the binomial probability mass function lets you calculate probability of getting *k* heads from *n* coin flips with *p* probability of getting a heads.\n",
    "\n",
    "$$\n",
    "\\text{binomial.pmf}(k, n, p) = {n \\choose k}p^k (1-p)^{n-k}\n",
    "$$\n",
    "\n",
    "The formula basically multiplies the number of different ways you can get *k* successes out of *n* coin flips by the probability of success *p* raised to number of successes *k* and probability of failure, *1-p* raised to the number of failures *n-k*.\n",
    "\n",
    "Let's see this in action."
   ]
  },
  {
   "cell_type": "code",
   "execution_count": 11,
   "metadata": {},
   "outputs": [
    {
     "data": {
      "text/plain": [
       "0.24609375000000025"
      ]
     },
     "execution_count": 11,
     "metadata": {},
     "output_type": "execute_result"
    }
   ],
   "source": [
    "k=5\n",
    "n=10\n",
    "p=0.5\n",
    "\n",
    "binom.pmf(k, n, p)"
   ]
  },
  {
   "cell_type": "code",
   "execution_count": 12,
   "metadata": {},
   "outputs": [
    {
     "name": "stdout",
     "output_type": "stream",
     "text": [
      " pmf(k, *args, **kwds)\n",
      "\n",
      "Probability mass function at k of the given RV.\n",
      "\n",
      "Parameters\n",
      "----------\n",
      "k : array_like\n",
      "    Quantiles.\n",
      "arg1, arg2, arg3,... : array_like\n",
      "    The shape parameter(s) for the distribution (see docstring of the\n",
      "    instance object for more information)\n",
      "loc : array_like, optional\n",
      "    Location parameter (default=0).\n",
      "\n",
      "Returns\n",
      "-------\n",
      "pmf : array_like\n",
      "    Probability mass function evaluated at k\n"
     ]
    }
   ],
   "source": [
    "import numpy as np\n",
    "np.info(binom.pmf)"
   ]
  },
  {
   "cell_type": "markdown",
   "metadata": {},
   "source": [
    "So with a fair coin, we have chances of getting 5 heads for 10 throws is almost 25%. Remember here we are talking about getting exactly \"5\" heads. Let's calculate more. Probability of getting 2 heads after 10 throws with a fair coin."
   ]
  },
  {
   "cell_type": "code",
   "execution_count": 13,
   "metadata": {},
   "outputs": [
    {
     "data": {
      "text/plain": [
       "0.04394531249999999"
      ]
     },
     "execution_count": 13,
     "metadata": {},
     "output_type": "execute_result"
    }
   ],
   "source": [
    "k=2\n",
    "n=10\n",
    "p=0.5\n",
    "binom.pmf(k, n, p)"
   ]
  },
  {
   "cell_type": "markdown",
   "metadata": {},
   "source": [
    "Approximately 4%. Remember here we are talking about getting \"exactly\" 2 heads. Probability of getting exactly 50 heads after 100 throws with a biased coin (p=0.3)"
   ]
  },
  {
   "cell_type": "code",
   "execution_count": 14,
   "metadata": {},
   "outputs": [
    {
     "data": {
      "text/plain": [
       "1.3026227131445298e-05"
      ]
     },
     "execution_count": 14,
     "metadata": {},
     "output_type": "execute_result"
    }
   ],
   "source": [
    "k=50\n",
    "n=100\n",
    "p=0.3\n",
    "binom.pmf(k, n, p)"
   ]
  },
  {
   "cell_type": "markdown",
   "metadata": {},
   "source": [
    "So this is extremely low. Which makes sense. How about probability of getting 65 heads after 100 throws with a coin biased towards the heads (p=0.7)"
   ]
  },
  {
   "cell_type": "code",
   "execution_count": 15,
   "metadata": {},
   "outputs": [
    {
     "data": {
      "text/plain": [
       "0.0467796823527298"
      ]
     },
     "execution_count": 15,
     "metadata": {},
     "output_type": "execute_result"
    }
   ],
   "source": [
    "k=65\n",
    "n=100\n",
    "p=0.7\n",
    "binom.pmf(k, n, p)"
   ]
  },
  {
   "cell_type": "markdown",
   "metadata": {},
   "source": [
    "Almost 5%. As *n* gets larger, the probability of getting *k* heads smaller for the same *p*. We have been thinking about getting exactly *k* heads, how about if we think of getting *k* or **fewer** heads? Then we come to **Cumulative Distribution Function**"
   ]
  },
  {
   "cell_type": "markdown",
   "metadata": {},
   "source": [
    "### Cumulative Distribution Function\n",
    "\n",
    "$$\n",
    "\\text{binomial.cdf}(k, n, p) = {n \\choose 0}p^0(1-p)^n + {n \\choose 1}p^1(1-p)^{n-1} + ... + {n \\choose k}p^k(1-p)^{n-k}\n",
    "$$\n",
    "\n",
    "CDF adds the probability of going from 0 to k heads. This basically gives us probability of getting *k* or *fewer* heads from n coin flips with probability *p* of getting heads.\n",
    "\n",
    "Basically, adding the probabilities from the mass function, we get the cumulative distribution function. This is for getting a range of probabilities rather than getting probability of a single event.\n",
    "\n",
    "So probability of getting 5 or fewer heads for 10 throws with probability of heads as 0.5, we get."
   ]
  },
  {
   "cell_type": "code",
   "execution_count": 16,
   "metadata": {},
   "outputs": [
    {
     "data": {
      "text/plain": [
       "0.6230468749999999"
      ]
     },
     "execution_count": 16,
     "metadata": {},
     "output_type": "execute_result"
    }
   ],
   "source": [
    "binom.cdf(k=5, n=10, p=0.5)"
   ]
  },
  {
   "cell_type": "markdown",
   "metadata": {},
   "source": [
    "62% of the time we will get 5 or less heads in such case. The probability of getting 50 heads or less after 100 throws with p=0.3 (biased towards tail) is:"
   ]
  },
  {
   "cell_type": "code",
   "execution_count": 17,
   "metadata": {},
   "outputs": [
    {
     "data": {
      "text/plain": [
       "0.9999909653138043"
      ]
     },
     "execution_count": 17,
     "metadata": {},
     "output_type": "execute_result"
    }
   ],
   "source": [
    "binom.cdf(k=50, n=100, p=0.3)"
   ]
  },
  {
   "cell_type": "markdown",
   "metadata": {},
   "source": [
    "Almost ~100%. Which again, makes sense. Now probability of getting 59 or **more** heads after 100 throws of a biased coin towards head (p=0.7) is:"
   ]
  },
  {
   "cell_type": "code",
   "execution_count": 18,
   "metadata": {},
   "outputs": [
    {
     "data": {
      "text/plain": [
       "0.9875015928335618"
      ]
     },
     "execution_count": 18,
     "metadata": {},
     "output_type": "execute_result"
    }
   ],
   "source": [
    "1 - binom.cdf(k=59, n=100, p=0.7)"
   ]
  },
  {
   "cell_type": "markdown",
   "metadata": {},
   "source": [
    "Almost 99%. Notice the  \"1 - \" as we are calculating for more not less. We can do the same using `sf` function which stands for survival function."
   ]
  },
  {
   "cell_type": "code",
   "execution_count": 19,
   "metadata": {},
   "outputs": [
    {
     "data": {
      "text/plain": [
       "0.9875015928335618"
      ]
     },
     "execution_count": 19,
     "metadata": {},
     "output_type": "execute_result"
    }
   ],
   "source": [
    "binom.sf(k=59, n=100, p=0.7)"
   ]
  },
  {
   "cell_type": "markdown",
   "metadata": {},
   "source": [
    "## Exercises\n",
    "### Predicting the probability of defects\n",
    "Any situation with exactly two possible outcomes can be modeled with binomial random variables. For example, you could model if someone likes or dislikes a product, or if they voted or not.\n",
    "\n",
    "Let's model whether or not a component from a supplier comes with a defect. From the thousands of components that we got from a supplier, we are going to take a sample of 50, selected randomly. The agreed and accepted defect rate is 2%.\n",
    "\n",
    "Let's calculate probability of getting exactly 1 defective component."
   ]
  },
  {
   "cell_type": "code",
   "execution_count": 20,
   "metadata": {},
   "outputs": [
    {
     "data": {
      "text/plain": [
       "0.37160171437461204"
      ]
     },
     "execution_count": 20,
     "metadata": {},
     "output_type": "execute_result"
    }
   ],
   "source": [
    "prob_one_defect = binom.pmf(k=1, n=50, p=0.02)\n",
    "prob_one_defect"
   ]
  },
  {
   "cell_type": "markdown",
   "metadata": {},
   "source": [
    "How about probability of no defect"
   ]
  },
  {
   "cell_type": "code",
   "execution_count": 21,
   "metadata": {},
   "outputs": [
    {
     "data": {
      "text/plain": [
       "0.3641696800871171"
      ]
     },
     "execution_count": 21,
     "metadata": {},
     "output_type": "execute_result"
    }
   ],
   "source": [
    "prob_no_defect = binom.pmf(k=0, n=50, p=0.02)\n",
    "prob_no_defect"
   ]
  },
  {
   "cell_type": "markdown",
   "metadata": {},
   "source": [
    "What is the probability of getting 2 or less defective components?"
   ]
  },
  {
   "cell_type": "code",
   "execution_count": 22,
   "metadata": {},
   "outputs": [
    {
     "data": {
      "text/plain": [
       "0.9215722516490308"
      ]
     },
     "execution_count": 22,
     "metadata": {},
     "output_type": "execute_result"
    }
   ],
   "source": [
    "prob_two_or_less_defects = binom.cdf(k=2, n=50, p=0.02)\n",
    "prob_two_or_less_defects"
   ]
  },
  {
   "cell_type": "markdown",
   "metadata": {},
   "source": [
    "Now, we know how we can test quality of components from a supplier. "
   ]
  },
  {
   "cell_type": "markdown",
   "metadata": {},
   "source": [
    "### Predicting employment status\n",
    "Consider a survey about employment that contains the question \"Are you employed?\" It is known that 65% of respondents will answer \"yes.\" Eight survey responses have been collected.\n",
    "\n",
    "1. Calculate the probability of exactly 5 yes responses?"
   ]
  },
  {
   "cell_type": "code",
   "execution_count": 23,
   "metadata": {},
   "outputs": [
    {
     "data": {
      "text/plain": [
       "0.27858577906250004"
      ]
     },
     "execution_count": 23,
     "metadata": {},
     "output_type": "execute_result"
    }
   ],
   "source": [
    "prob_5_yes_responses = binom.pmf(k=5, n=8, p=0.65)\n",
    "prob_5_yes_responses"
   ]
  },
  {
   "cell_type": "markdown",
   "metadata": {},
   "source": [
    "2. Calculate the probability of getting 3 or fewer no responses "
   ]
  },
  {
   "cell_type": "code",
   "execution_count": 24,
   "metadata": {},
   "outputs": [
    {
     "data": {
      "text/plain": [
       "0.8939090951171875"
      ]
     },
     "execution_count": 24,
     "metadata": {},
     "output_type": "execute_result"
    }
   ],
   "source": [
    "prob_3_or_less_no = 1 - binom.cdf(k=3, n=8, p=0.65)\n",
    "prob_3_or_less_no"
   ]
  },
  {
   "cell_type": "markdown",
   "metadata": {},
   "source": [
    "3. Calculate the probability of getting 3 or more yes responses."
   ]
  },
  {
   "cell_type": "code",
   "execution_count": 25,
   "metadata": {},
   "outputs": [
    {
     "data": {
      "text/plain": [
       "0.8939090951171875"
      ]
     },
     "execution_count": 25,
     "metadata": {},
     "output_type": "execute_result"
    }
   ],
   "source": [
    "prob_3_or_more_yes = binom.sf(k=3, n=8, p=0.65)\n",
    "prob_3_or_more_yes"
   ]
  },
  {
   "cell_type": "markdown",
   "metadata": {},
   "source": [
    "### Predicting Burglary conviction Rate.\n",
    "\n",
    "Imagine that in your town there are many crimes, including burglaries, but only 20% of them get solved. Last week, there were 9 burglaries. Answer the following questions.\n",
    "\n",
    "1. What is the probability of solving exactly 4 out of 9 burglaries?"
   ]
  },
  {
   "cell_type": "code",
   "execution_count": 26,
   "metadata": {},
   "outputs": [
    {
     "data": {
      "text/plain": [
       "0.06606028799999998"
      ]
     },
     "execution_count": 26,
     "metadata": {},
     "output_type": "execute_result"
    }
   ],
   "source": [
    "prob_4_burglaries_solved = binom.pmf(k=4, n=9, p=0.2)\n",
    "prob_4_burglaries_solved"
   ]
  },
  {
   "cell_type": "markdown",
   "metadata": {},
   "source": [
    "2. What is the probability of solving more than 3 of the 9 burglaries?"
   ]
  },
  {
   "cell_type": "code",
   "execution_count": 27,
   "metadata": {},
   "outputs": [
    {
     "data": {
      "text/plain": [
       "0.9143582720000001"
      ]
     },
     "execution_count": 27,
     "metadata": {},
     "output_type": "execute_result"
    }
   ],
   "source": [
    "prob_more_than_3_solved = binom.cdf(k=3, n=9, p=0.2)\n",
    "prob_more_than_3_solved"
   ]
  },
  {
   "cell_type": "markdown",
   "metadata": {},
   "source": [
    "3. What is the probability of solving **exactly** 2 or 3 of the 9 burglaries?"
   ]
  },
  {
   "cell_type": "code",
   "execution_count": 28,
   "metadata": {},
   "outputs": [
    {
     "data": {
      "text/plain": [
       "0.47815065599999973"
      ]
     },
     "execution_count": 28,
     "metadata": {},
     "output_type": "execute_result"
    }
   ],
   "source": [
    "prob_2_or_3_solved = binom.pmf(k=2, n=9, p=0.2) + binom.pmf(k=3, n=9, p=0.2)\n",
    "prob_2_or_3_solved"
   ]
  },
  {
   "cell_type": "markdown",
   "metadata": {},
   "source": [
    "4. What is the probability of solving 1 or fewer or more than 7 of the 9 burglaries?"
   ]
  },
  {
   "cell_type": "code",
   "execution_count": 29,
   "metadata": {},
   "outputs": [
    {
     "data": {
      "text/plain": [
       "0.43622655999999993"
      ]
     },
     "execution_count": 29,
     "metadata": {},
     "output_type": "execute_result"
    }
   ],
   "source": [
    "prob_1_or_less_or_7_or_more = binom.cdf(k=1, n=9, p=0.2) + binom.sf(k=7, n=9, p=0.2)\n",
    "prob_1_or_less_or_7_or_more"
   ]
  },
  {
   "cell_type": "markdown",
   "metadata": {},
   "source": [
    "## Expected value, Mean and Variance\n",
    "\n",
    "Once, we get the data, there are few questions we always like to ask:\n",
    "\n",
    "1. Is the an outcome of the data more likely than other?\n",
    "2. How is the spread of the data?\n",
    "\n",
    "### Expected Value\n",
    "\n",
    "A *discrete random variable* has finite outcome. For instance, roll of a die has 6 possible outcomes.\n",
    "\n",
    "Expected value is the sum of possible outcome weighted by it's probability.\n",
    "\n",
    "$$\n",
    "E(X) = \\sum_{i=1}^{k}x_{i}p_{i} = x_{1}p_{1} + x_{2}p_{2} + ....+ x_{k}p_{k}\n",
    "$$\n",
    "\n",
    "In other words, expected value is where the probability will concentrate when you repeat the experiment.\n",
    "\n",
    "For a random variable, say flip of a coin, the expected value is p (as expected!)\n",
    "$$\n",
    "E(X)= \\sum_{i=1}^{2}x_{i}p_{i} = x_1p_1 + x_2p_2 = 0 \\times (1-p) + 1 \\times p = p\n",
    "$$\n",
    "\n",
    "### Arithmetic mean\n",
    "\n",
    "The familiar mean. Here each $x_i$ is the outcome from one experiment (i.e a coin flip, either 0 or 1). It is based on data.\n",
    "$$\n",
    "    \\bar{X} = \\frac{1}{n}\\sum_{i=1}^n x_{i} = \\frac{1}{n}(x_1 + x_2 + .... + x_n)\n",
    "$$\n",
    "\n",
    "As number of random experiments increases, the expected value converges with arithmetic mean.\n",
    "\n",
    "### Variance \n",
    "\n",
    "Variance is the measure of the dispersion. It calculates the spread of the data.\n",
    "\n",
    "It's the expected value of the square deviation from it's expected value.\n",
    "\n",
    "$$\n",
    "\\text{Var(X)} = E[X-E(X)^2] = \\sum_{i=1}^{n}p_{i} \\times (x_i - E(X))^2\n",
    "$$\n",
    "\n",
    "In python, we can use `scipy`'s `describe` to find mean and variance."
   ]
  },
  {
   "cell_type": "code",
   "execution_count": 30,
   "metadata": {},
   "outputs": [
    {
     "data": {
      "text/plain": [
       "0.6666666666666666"
      ]
     },
     "execution_count": 30,
     "metadata": {},
     "output_type": "execute_result"
    }
   ],
   "source": [
    "from scipy.stats import describe\n",
    "describe([0, 1, 1]).mean"
   ]
  },
  {
   "cell_type": "code",
   "execution_count": 31,
   "metadata": {},
   "outputs": [
    {
     "data": {
      "text/plain": [
       "0.33333333333333337"
      ]
     },
     "execution_count": 31,
     "metadata": {},
     "output_type": "execute_result"
    }
   ],
   "source": [
    "describe([0, 1, 1]).variance"
   ]
  },
  {
   "cell_type": "markdown",
   "metadata": {},
   "source": [
    "### Expected value and variance of binomial distribution.\n",
    "\n",
    "$$\n",
    "\\text{Expected Value of Binomial Distribution} = n \\times p\n",
    "$$\n",
    "\n",
    "$$\n",
    "\\text{Variance of Binomial Distribution} = n \\times p \\times (1-p)\n",
    "$$"
   ]
  },
  {
   "cell_type": "code",
   "execution_count": 32,
   "metadata": {},
   "outputs": [
    {
     "data": {
      "text/plain": [
       "(array(5.), array(2.5))"
      ]
     },
     "execution_count": 32,
     "metadata": {},
     "output_type": "execute_result"
    }
   ],
   "source": [
    "binom.stats(n=10, p=0.5)"
   ]
  },
  {
   "cell_type": "markdown",
   "metadata": {},
   "source": [
    "## Independent Events\n",
    "\n",
    "Given that A and B are two events in a random experiment, the conditions of independence of A and B are:\n",
    "\n",
    "1. The order in which A and B happens doesn't affect their probabilities.\n",
    "2. If A occurs, this doesn't affect probability of B.\n",
    "3. If B occurs, this doesn't affect probability of A.\n",
    "\n",
    "For independent events, For calculating probability of occuring both independent events, multiplication rule can be used:\n",
    "$$\n",
    "P(\\text{A and B}) = P(A) \\times P(B)\n",
    "$$\n",
    "\n",
    "Let's try this by simulating flips of two fair coins."
   ]
  },
  {
   "cell_type": "code",
   "execution_count": 33,
   "metadata": {},
   "outputs": [
    {
     "data": {
      "text/plain": [
       "array([1, 1, 0, 1, 0, 0, 0, 1, 1, 1])"
      ]
     },
     "execution_count": 33,
     "metadata": {},
     "output_type": "execute_result"
    }
   ],
   "source": [
    "sample = binom.rvs(n=2, p=0.5, size=1000, random_state=1)\n",
    "sample[:10]"
   ]
  },
  {
   "cell_type": "code",
   "execution_count": 34,
   "metadata": {},
   "outputs": [
    {
     "data": {
      "text/plain": [
       "RepeatedResults(values=array([0., 1., 2.]), counts=array([249, 497, 254], dtype=int64))"
      ]
     },
     "execution_count": 34,
     "metadata": {},
     "output_type": "execute_result"
    }
   ],
   "source": [
    "from scipy.stats import find_repeats\n",
    "\n",
    "find_repeats(sample)"
   ]
  },
  {
   "cell_type": "markdown",
   "metadata": {},
   "source": [
    "So basically, we get 254 times two heads, 497 times one head and 249 times no head, which makes sense. Probability of getting two tails is?\n"
   ]
  },
  {
   "cell_type": "code",
   "execution_count": 35,
   "metadata": {},
   "outputs": [
    {
     "data": {
      "text/plain": [
       "0.249"
      ]
     },
     "execution_count": 35,
     "metadata": {},
     "output_type": "execute_result"
    }
   ],
   "source": [
    "249/1000"
   ]
  },
  {
   "cell_type": "markdown",
   "metadata": {},
   "source": [
    "By the above formula, the same can be calculated. The probability of getting a tail is 0.5. Therefore. for two tails"
   ]
  },
  {
   "cell_type": "code",
   "execution_count": 36,
   "metadata": {},
   "outputs": [
    {
     "data": {
      "text/plain": [
       "0.25"
      ]
     },
     "execution_count": 36,
     "metadata": {},
     "output_type": "execute_result"
    }
   ],
   "source": [
    "0.5 * 0.5"
   ]
  },
  {
   "cell_type": "markdown",
   "metadata": {},
   "source": [
    "Let's see if we have biased coin with 80% probability with heads."
   ]
  },
  {
   "cell_type": "code",
   "execution_count": 37,
   "metadata": {},
   "outputs": [
    {
     "data": {
      "text/plain": [
       "array([2, 1, 2, 2, 2, 2, 2, 2, 2, 2])"
      ]
     },
     "execution_count": 37,
     "metadata": {},
     "output_type": "execute_result"
    }
   ],
   "source": [
    "biased_sample = binom.rvs(n=2, p=0.8, size=1000, random_state=1)\n",
    "biased_sample [:10]\n",
    "\n"
   ]
  },
  {
   "cell_type": "code",
   "execution_count": 38,
   "metadata": {},
   "outputs": [
    {
     "data": {
      "text/plain": [
       "RepeatedResults(values=array([0., 1., 2.]), counts=array([ 39, 317, 644], dtype=int64))"
      ]
     },
     "execution_count": 38,
     "metadata": {},
     "output_type": "execute_result"
    }
   ],
   "source": [
    "find_repeats(biased_sample)"
   ]
  },
  {
   "cell_type": "markdown",
   "metadata": {},
   "source": [
    "Probability of two tails is?"
   ]
  },
  {
   "cell_type": "code",
   "execution_count": 39,
   "metadata": {},
   "outputs": [
    {
     "data": {
      "text/plain": [
       "0.039"
      ]
     },
     "execution_count": 39,
     "metadata": {},
     "output_type": "execute_result"
    }
   ],
   "source": [
    "39/1000"
   ]
  },
  {
   "cell_type": "markdown",
   "metadata": {},
   "source": [
    "We can see that by the formula it is the same result that chances of getting two tail is 4%. Remember that chances of getting a tail is 0.2, therefore, chances of getting two tails is?"
   ]
  },
  {
   "cell_type": "code",
   "execution_count": 40,
   "metadata": {},
   "outputs": [
    {
     "data": {
      "text/plain": [
       "0.04000000000000001"
      ]
     },
     "execution_count": 40,
     "metadata": {},
     "output_type": "execute_result"
    }
   ],
   "source": [
    "0.2 * 0.2"
   ]
  },
  {
   "cell_type": "markdown",
   "metadata": {},
   "source": [
    "## Joint Probabilities\n",
    "\n",
    "Calculate the joint probability of the following table:\n",
    "![](https://firebasestorage.googleapis.com/v0/b/firescript-577a2.appspot.com/o/imgs%2Fapp%2Fstoicliving%2FNBvAMsgOFQ.png?alt=media&token=a8573972-9711-40ca-a1e9-782884293ea6)\n",
    "\n",
    "1. Calculate the probability that the engine and gear box both work?"
   ]
  },
  {
   "cell_type": "code",
   "execution_count": 41,
   "metadata": {},
   "outputs": [
    {
     "name": "stdout",
     "output_type": "stream",
     "text": [
      "0.98505\n"
     ]
    }
   ],
   "source": [
    "# Individual probabilities\n",
    "P_Eng_works = 0.99\n",
    "P_GearB_works = 0.995\n",
    "\n",
    "# Joint probability calculation\n",
    "P_both_works = P_Eng_works * P_GearB_works\n",
    "\n",
    "print(P_both_works)"
   ]
  },
  {
   "cell_type": "markdown",
   "metadata": {},
   "source": [
    "2. Calculate the probability that one fails -- either engine or gear box -- but not both."
   ]
  },
  {
   "cell_type": "code",
   "execution_count": 42,
   "metadata": {},
   "outputs": [
    {
     "name": "stdout",
     "output_type": "stream",
     "text": [
      "0.0149\n"
     ]
    }
   ],
   "source": [
    "P_Eng_fails = 0.01\n",
    "P_Eng_works = 0.99\n",
    "P_GearB_fails = 0.005\n",
    "P_GearB_works = 0.995\n",
    "\n",
    "# Joint probability calculation\n",
    "P_only_GearB_fails = P_GearB_fails *P_Eng_works\n",
    "P_only_Eng_fails = P_Eng_fails * P_GearB_works\n",
    "\n",
    "# Calculate result\n",
    "P_one_fails =  P_only_GearB_fails + P_only_Eng_fails\n",
    "\n",
    "print(P_one_fails)"
   ]
  },
  {
   "cell_type": "markdown",
   "metadata": {},
   "source": [
    "3. What is the probability that either both work or both fail?"
   ]
  },
  {
   "cell_type": "code",
   "execution_count": 43,
   "metadata": {},
   "outputs": [
    {
     "name": "stdout",
     "output_type": "stream",
     "text": [
      "0.9851\n"
     ]
    }
   ],
   "source": [
    "# Individual probabilities\n",
    "P_Eng_fails = 0.01\n",
    "P_Eng_works = 0.99\n",
    "P_GearB_fails = 0.005\n",
    "P_GearB_works = 0.995\n",
    "\n",
    "# Joint probability calculation\n",
    "P_EngW_GearBW = P_Eng_works * P_GearB_works\n",
    "P_EngF_GearBF = P_Eng_fails * P_GearB_fails\n",
    "\n",
    "\n",
    "P_fails_or_works = P_EngW_GearBW + P_EngF_GearBF\n",
    "\n",
    "print(P_fails_or_works)"
   ]
  },
  {
   "cell_type": "markdown",
   "metadata": {},
   "source": [
    "We'll use the following deck of cards to calculate some probabilities in each step:\n",
    "![](https://firebasestorage.googleapis.com/v0/b/firescript-577a2.appspot.com/o/imgs%2Fapp%2Fstoicliving%2F8Ow3EO2Rb4.png?alt=media&token=d929045b-bdf8-43b9-b7e3-1e51f450b887)"
   ]
  },
  {
   "cell_type": "markdown",
   "metadata": {},
   "source": [
    "1. Calculate the probability of not getting an Ace?"
   ]
  },
  {
   "cell_type": "code",
   "execution_count": 44,
   "metadata": {},
   "outputs": [
    {
     "name": "stdout",
     "output_type": "stream",
     "text": [
      "0.9230769230769231\n"
     ]
    }
   ],
   "source": [
    "# Ace probability\n",
    "P_Ace = 4/52\n",
    "\n",
    "# Not Ace probability\n",
    "P_not_Ace = 1 - P_Ace\n",
    "\n",
    "print(P_not_Ace)"
   ]
  },
  {
   "cell_type": "markdown",
   "metadata": {},
   "source": [
    "2. Calculate the probability of getting a red card."
   ]
  },
  {
   "cell_type": "code",
   "execution_count": 45,
   "metadata": {},
   "outputs": [
    {
     "name": "stdout",
     "output_type": "stream",
     "text": [
      "0.5\n"
     ]
    }
   ],
   "source": [
    "# Figure probabilities\n",
    "P_Hearts = 13/52\n",
    "P_Diamonds = 13/52\n",
    "\n",
    "# Probability of red calculation\n",
    "P_Red = P_Hearts + P_Diamonds\n",
    "\n",
    "print(P_Red)"
   ]
  },
  {
   "cell_type": "markdown",
   "metadata": {},
   "source": [
    "3. Calculate the probability of getting a Jack or a spade."
   ]
  },
  {
   "cell_type": "code",
   "execution_count": 46,
   "metadata": {},
   "outputs": [
    {
     "name": "stdout",
     "output_type": "stream",
     "text": [
      "0.3076923076923077\n"
     ]
    }
   ],
   "source": [
    "# Figure probabilities\n",
    "P_Jack = 4/52\n",
    "P_Spade = 13/52\n",
    "\n",
    "# Joint probability\n",
    "P_Jack_n_Spade = 1/52\n",
    "\n",
    "# Probability of Jack or spade\n",
    "P_Jack_or_Spade =  P_Jack + P_Spade - P_Jack_n_Spade\n",
    "\n",
    "print(P_Jack_or_Spade)"
   ]
  },
  {
   "cell_type": "markdown",
   "metadata": {},
   "source": [
    "4. Calculate the probability of getting a King or a Queen."
   ]
  },
  {
   "cell_type": "code",
   "execution_count": 47,
   "metadata": {},
   "outputs": [
    {
     "name": "stdout",
     "output_type": "stream",
     "text": [
      "0.15384615384615385\n"
     ]
    }
   ],
   "source": [
    "# Figure probabilities\n",
    "P_King = 4/52\n",
    "P_Queen = 4/52\n",
    "\n",
    "# Joint probability\n",
    "P_King_n_Queen = 0\n",
    "\n",
    "# Probability of King or Queen\n",
    "P_King_or_Queen = P_King + P_Queen - P_King_n_Queen\n",
    "\n",
    "print(P_King_or_Queen)"
   ]
  },
  {
   "cell_type": "markdown",
   "metadata": {},
   "source": [
    "### Conditional Probability\n",
    "How should we update our beliefs in light of new evidence we observe?\n",
    "* **idea** :: As you obtain additional information, how should you update probabilities of events?  In other words, whenever we observe new evidence (i.e. obtain data), we acquire information that may affect our uncertainties. New information consistent with an existing belief, could make us sure of that belief. While a surprising observation could throw that belief into question.\n",
    "* In fact it is a useful perspective that all probabilities are conditional. There is always some background knowledge or assumptions built into every probability.\n",
    "* **example** :: Suppose one morning we are interested in the event __R__ that it will rain today. Let $P(R)$ represents the probability of rain before looking outside. If we look outside, we see dark clouds in the sky, then presumably our probability of rain should increase; We denote this new probability by $P(R|C)$ (read as probability of __R__ given __C__), where __C__ is the event of there being ominous clouds.  When we go from $P(R)$ to $P(R|C)$, we say that we are \"conditioning on  __C__\". As the day progresses, we obtain more and more information about the weather conditions and we can continually update our probabilities. If we observe events $C_{1}. C_{2}, C_{3}.. C_{n}$ occurred, we write the new conditional probability of rain given the evidence as $P(R|C_{1}, C_{2}..,C_{n})$. If eventually we observe that it does start raining, our conditional probability becomes 1.\n",
    "\n",
    "* **definition** :: If __A__ and __B__ are events with $P(B) > 0$, then the conditional probability of __A__ given __B__ denoted by $P(A|B)$ is defined as\n",
    "$$P(A|B) = \\frac{P(A \\cap B)}{P(B)}$$\n",
    "    * Here __A__ is the event whose uncertainty we want to update. __B__ is the evidence we observe (or want to treat as something given). We call $P(A)$ as __prior__ probability and $P(A|B)$ as __posterior__ probability.\n",
    "    * For any event, $P(A|A) = \\frac{P(A \\cap A)}{P(A)} = 1$. Upon observing that __A__ has occurred, our updated probability of __A__ becomes 1.\n",
    "\n",
    "Let's say we have the same deck of card as in the above example. So if we draw a card and it is Jack, you remove it from deck.. Consider that as Event A. What is the probability of getting another Jack from the same deck, consider this an Event B, knowing that event A has happend?"
   ]
  },
  {
   "cell_type": "code",
   "execution_count": 48,
   "metadata": {},
   "outputs": [
    {
     "data": {
      "text/plain": [
       "0.07692307692307693"
      ]
     },
     "execution_count": 48,
     "metadata": {},
     "output_type": "execute_result"
    }
   ],
   "source": [
    "# Probability of getting a jack\n",
    "P_A = 4/52\n",
    "P_A"
   ]
  },
  {
   "cell_type": "markdown",
   "metadata": {},
   "source": [
    "Approximately 7.6%. Now knowing that event A has happened, what will be the probability of event B, i.e. drawing another jack from the same deck of cards?"
   ]
  },
  {
   "cell_type": "code",
   "execution_count": 49,
   "metadata": {},
   "outputs": [
    {
     "data": {
      "text/plain": [
       "0.057692307692307696"
      ]
     },
     "execution_count": 49,
     "metadata": {},
     "output_type": "execute_result"
    }
   ],
   "source": [
    "P_B_Given_A = 3/52\n",
    "P_B_Given_A"
   ]
  },
  {
   "cell_type": "markdown",
   "metadata": {},
   "source": [
    "Approximately, 5.76%. We updated our probability (reduced in this case), because we had new information. Let's do another one.\n",
    "\n",
    "**What is the probability of getting a red card, given that we have drawn a jack?**\n",
    "Well, clearly we have 50% chance of getting a red, cards, since there are 4 jacks in deck, and 2 of them are red.\n",
    "\n",
    "$$\n",
    "\\text{P(Red | Jack)} = \\frac{\\text{P (Jack and Red)}}{\\text{P(Jack)}}\n",
    "$$"
   ]
  },
  {
   "cell_type": "code",
   "execution_count": 50,
   "metadata": {},
   "outputs": [
    {
     "data": {
      "text/plain": [
       "0.5"
      ]
     },
     "execution_count": 50,
     "metadata": {},
     "output_type": "execute_result"
    }
   ],
   "source": [
    "P_Jack = 4/52\n",
    "P_Red = 26/52\n",
    "\n",
    "P_Jack_and_Red = P_Jack * P_Red\n",
    "P_Red_given_Jack = P_Jack_and_Red / P_Jack\n",
    "P_Red_given_Jack"
   ]
  },
  {
   "cell_type": "markdown",
   "metadata": {},
   "source": [
    "How about the case when we know we have drawn a red card, what is the probability of it being a Jack.\n",
    "\n",
    "$$\n",
    "\\text{P(Jack | Red)} = \\frac{\\text{P (Jack and Red)}}{\\text{P(Red)}}\n",
    "$$\n"
   ]
  },
  {
   "cell_type": "code",
   "execution_count": 51,
   "metadata": {},
   "outputs": [
    {
     "data": {
      "text/plain": [
       "0.07692307692307693"
      ]
     },
     "execution_count": 51,
     "metadata": {},
     "output_type": "execute_result"
    }
   ],
   "source": [
    "P_Jack_given_Red = P_Jack_and_Red / P_Red\n",
    "P_Jack_given_Red"
   ]
  },
  {
   "cell_type": "code",
   "execution_count": 52,
   "metadata": {},
   "outputs": [
    {
     "data": {
      "text/plain": [
       "0.07692307692307693"
      ]
     },
     "execution_count": 52,
     "metadata": {},
     "output_type": "execute_result"
    }
   ],
   "source": [
    "2/26"
   ]
  },
  {
   "cell_type": "markdown",
   "metadata": {},
   "source": [
    "### Exercise\n",
    "An airline offers flights to Hawaii on Tuesdays and Fridays, but sometimes flights may get delayed. Below is the table showing the data of delayed and on-time flights.\n",
    "\n",
    "| |Delayed|On Time| Total|\n",
    "|:--:|:--:|:--:|:--:|\n",
    "|Tuesday|24|114|138|\n",
    "|Friday|11|127|138|\n",
    "|Total|35|241|276|\n",
    "\n",
    "Answer the following questions based on above provided details:\n",
    "\n",
    "**Q1: What is the probability of flight being on time?**"
   ]
  },
  {
   "cell_type": "code",
   "execution_count": 53,
   "metadata": {},
   "outputs": [
    {
     "data": {
      "text/plain": [
       "0.8731884057971014"
      ]
     },
     "execution_count": 53,
     "metadata": {},
     "output_type": "execute_result"
    }
   ],
   "source": [
    "On_time = 241\n",
    "Total_Departures = 276\n",
    "\n",
    "P_On_time = On_time / Total_Departures\n",
    "P_On_time"
   ]
  },
  {
   "cell_type": "markdown",
   "metadata": {},
   "source": [
    "**Q2: If every departure is on time with probability `P_On_time`, What is the probability of flight getting delayed?**"
   ]
  },
  {
   "cell_type": "code",
   "execution_count": 54,
   "metadata": {},
   "outputs": [
    {
     "data": {
      "text/plain": [
       "0.12681159420289856"
      ]
     },
     "execution_count": 54,
     "metadata": {},
     "output_type": "execute_result"
    }
   ],
   "source": [
    "P_Delayed = 1 - P_On_time\n",
    "P_Delayed"
   ]
  },
  {
   "cell_type": "markdown",
   "metadata": {},
   "source": [
    "**Q3: Given that today is Tuesday, what is the probability of flight being delayed (`P(Delayed|Tuesday)`)?**\n",
    "\n",
    "$$\n",
    "\\text{P(Delayed | Tuesday)} = \\frac{\\text{P(Delayed and Tuesday)}}{\\text{P(Tuesday)}}\n",
    "$$"
   ]
  },
  {
   "cell_type": "code",
   "execution_count": 55,
   "metadata": {},
   "outputs": [
    {
     "name": "stdout",
     "output_type": "stream",
     "text": [
      "0.17391304347826086\n"
     ]
    }
   ],
   "source": [
    "Delayed_on_Tuesday = 24\n",
    "On_Tuesday = 138\n",
    "\n",
    "P_Delayed_g_Tuesday = Delayed_on_Tuesday / On_Tuesday\n",
    "\n",
    "print(P_Delayed_g_Tuesday)"
   ]
  },
  {
   "cell_type": "markdown",
   "metadata": {},
   "source": [
    "**Q4: Given that it is Friday, what is the probability of flight getting delayed?**\n",
    "\n",
    "$$\n",
    "\\text{P(Delayed | Friday)} = \\frac{\\text{P(Delayed and Friday)}}{\\text{P(Friday)}}\n",
    "$$"
   ]
  },
  {
   "cell_type": "code",
   "execution_count": 56,
   "metadata": {},
   "outputs": [
    {
     "name": "stdout",
     "output_type": "stream",
     "text": [
      "0.07971014492753623\n"
     ]
    }
   ],
   "source": [
    "\n",
    "Delayed_on_Friday = 11\n",
    "On_Friday = 138\n",
    "\n",
    "# Probability calculation\n",
    "P_Delayed_g_Friday = Delayed_on_Friday / On_Friday\n",
    "\n",
    "print(P_Delayed_g_Friday)"
   ]
  },
  {
   "cell_type": "markdown",
   "metadata": {},
   "source": [
    "### Exercise\n",
    "The following table shows the number of red and black cards in a deck that are Aces and Non-Aces\n",
    "\n",
    "||Red|Black|Total|\n",
    "|:--:|:--:|:--:|:--:|\n",
    "|Ace|2|2|4|\n",
    "|Non Ace|24|24|48|\n",
    "|Total|26|26|52|\n",
    "\n",
    "**Q1: Calculate P(Ace|Red)?**"
   ]
  },
  {
   "cell_type": "code",
   "execution_count": 57,
   "metadata": {},
   "outputs": [
    {
     "data": {
      "text/plain": [
       "0.07692307692307693"
      ]
     },
     "execution_count": 57,
     "metadata": {},
     "output_type": "execute_result"
    }
   ],
   "source": [
    "P_Red = 26/52\n",
    "P_Red_and_Ace = 2/52\n",
    "\n",
    "P_Ace_given_Red = P_Red_and_Ace/P_Red\n",
    "P_Ace_given_Red"
   ]
  },
  {
   "cell_type": "markdown",
   "metadata": {},
   "source": [
    "**Q2: Calculate P(Black|Ace) ?**\n",
    "\n",
    "Let's try to do it with logic. We have 4 Ace, 2 red and 2 black. So probability of get getting a black ace is 0.5.\n",
    "Now lets go with formula.\n"
   ]
  },
  {
   "cell_type": "code",
   "execution_count": 58,
   "metadata": {},
   "outputs": [
    {
     "name": "stdout",
     "output_type": "stream",
     "text": [
      "0.5\n"
     ]
    }
   ],
   "source": [
    "# Individual probabilities\n",
    "P_Ace = 4/52\n",
    "P_Ace_n_Black = 2/52\n",
    "\n",
    "# Conditional probability calculation\n",
    "P_Black_given_Ace = P_Ace_n_Black/P_Ace\n",
    "\n",
    "print(P_Black_given_Ace)"
   ]
  },
  {
   "cell_type": "markdown",
   "metadata": {},
   "source": [
    "**Q3: Calculate P(Non Ace|Black)?**\n",
    "\n",
    "We have 26 black cards, and 24 of them is non-ace. So the probability will be 24/26."
   ]
  },
  {
   "cell_type": "code",
   "execution_count": 59,
   "metadata": {},
   "outputs": [
    {
     "data": {
      "text/plain": [
       "0.9230769230769231"
      ]
     },
     "execution_count": 59,
     "metadata": {},
     "output_type": "execute_result"
    }
   ],
   "source": [
    "24/26"
   ]
  },
  {
   "cell_type": "code",
   "execution_count": 60,
   "metadata": {},
   "outputs": [
    {
     "name": "stdout",
     "output_type": "stream",
     "text": [
      "0.9230769230769231\n"
     ]
    }
   ],
   "source": [
    "# Individual probabilities\n",
    "P_Black = 26/52\n",
    "P_Black_n_Non_ace = 24/52\n",
    "\n",
    "# Conditional probability calculation\n",
    "P_Non_ace_given_Black = P_Black_n_Non_ace / P_Black\n",
    "\n",
    "print(P_Non_ace_given_Black)"
   ]
  },
  {
   "cell_type": "markdown",
   "metadata": {},
   "source": [
    "**Q4: Calculate P(Red|Non Ace)?**\n",
    "\n",
    "We have 48 non ace cards, 50% of them are red, hence 0.5"
   ]
  },
  {
   "cell_type": "code",
   "execution_count": 61,
   "metadata": {},
   "outputs": [
    {
     "name": "stdout",
     "output_type": "stream",
     "text": [
      "0.5\n"
     ]
    }
   ],
   "source": [
    "# Individual probabilities\n",
    "P_Non_ace = 48/52\n",
    "P_Non_ace_n_Red = 24/52\n",
    "\n",
    "# Conditional probability calculation\n",
    "P_Red_given_Non_ace = P_Non_ace_n_Red/P_Non_ace\n",
    "\n",
    "print(P_Red_given_Non_ace)"
   ]
  },
  {
   "cell_type": "markdown",
   "metadata": {},
   "source": [
    "### Exercise\n",
    "\n",
    "Let's do some more, assuming we are using normal deck of cards. Calculate the following probabilities.\n",
    "\n",
    "* **Calculate the probability of getting two jacks? P(Jack and Jack)**\n",
    "\n",
    "Now, We first take out the first jack with probability 4/52, and second with 3/51. Hence the probability of getting two jacks is:\n"
   ]
  },
  {
   "cell_type": "code",
   "execution_count": 62,
   "metadata": {},
   "outputs": [
    {
     "name": "stdout",
     "output_type": "stream",
     "text": [
      "0.004524886877828055\n"
     ]
    }
   ],
   "source": [
    "# Needed probabilities\n",
    "P_first_Jack = 4/52\n",
    "P_Jack_given_Jack = 3/51\n",
    "\n",
    "# Joint probability calculation\n",
    "P_two_Jacks = P_first_Jack * P_Jack_given_Jack\n",
    "\n",
    "print(P_two_Jacks)"
   ]
  },
  {
   "cell_type": "markdown",
   "metadata": {},
   "source": [
    "* **Calculate P(Ace|Spade)?**"
   ]
  },
  {
   "cell_type": "code",
   "execution_count": 63,
   "metadata": {},
   "outputs": [
    {
     "data": {
      "text/plain": [
       "0.07692307692307693"
      ]
     },
     "execution_count": 63,
     "metadata": {},
     "output_type": "execute_result"
    }
   ],
   "source": [
    "P_Spade = 13/52\n",
    "P_Ace_and_Spade = 1/52\n",
    "\n",
    "P_Ace_given_Spade = P_Ace_and_Spade/P_Spade\n",
    "P_Ace_given_Spade"
   ]
  },
  {
   "cell_type": "markdown",
   "metadata": {},
   "source": [
    "* **Calculate P(Queen|Face card)?**\n",
    "\n",
    "We have total 12 face cards. 4 King, 4 Queen, and 4 Jack. "
   ]
  },
  {
   "cell_type": "code",
   "execution_count": 64,
   "metadata": {},
   "outputs": [
    {
     "name": "stdout",
     "output_type": "stream",
     "text": [
      "0.3333333333333333\n"
     ]
    }
   ],
   "source": [
    "# Needed probabilities\n",
    "P_Face_card = 12/52\n",
    "P_Face_card_n_Queen = 4/52\n",
    "\n",
    "# Conditional probability calculation\n",
    "P_Queen_given_Face_card = P_Face_card_n_Queen / P_Face_card\n",
    "\n",
    "print(P_Queen_given_Face_card)"
   ]
  },
  {
   "cell_type": "markdown",
   "metadata": {},
   "source": [
    "## Law of Total Probability\n",
    "\n",
    "Let's say you have three events: A, B and C. B and C are distinct events from each other while event A intersects with both events B and C. We don't know probability of event A, but we know probability of A happening when B occurs, similarly we know the probability of A occurring when C occurs. The law of total probability say that using these two conditional probabilities we can calculate the probability of event A.\n",
    "\n",
    "Mathematically, \n",
    "$$\n",
    "P(A) = \\sum_{n}P(A \\cap B_n)\n",
    "$$\n",
    "\n",
    "Where **n** : Number of distinct events\n",
    "**$$B_n$$** : The distinct event\n",
    "\n",
    "Remember the law of conditional probability.\n",
    "\n",
    "$$\n",
    "P(A \\cap B) = P(A|B) \\times P(B)\n",
    "$$\n",
    "\n",
    "Therefore, Here\n",
    "\n",
    "$$\n",
    "P(A) = P(A \\cap B) + P(A \\cap C)\n",
    "$$\n",
    "\n",
    "### Exercise\n",
    "\n",
    "#### Formula 1 engines\n",
    "Suppose that two manufacturers, A and B, supply the engines for Formula 1 racing cars, with the following characteristics:\n",
    "\n",
    "* 99% of the engines from factory A last more than 5,000 km.\n",
    "* Factory B manufactures engines that last more than 5,000 km with 95% probability.\n",
    "* 70% of the engines are from manufacturer A, and the rest are produced by manufacturer B.\n",
    "\n",
    "What is the chance that an engine will last more than 5,000 km?"
   ]
  },
  {
   "cell_type": "code",
   "execution_count": 65,
   "metadata": {},
   "outputs": [
    {
     "data": {
      "text/plain": [
       "0.978"
      ]
     },
     "execution_count": 65,
     "metadata": {},
     "output_type": "execute_result"
    }
   ],
   "source": [
    "# Probability that engine is from manufacturer A.\n",
    "P_A = 0.7\n",
    "\n",
    "# Therefore\n",
    "P_B = 0.3\n",
    "\n",
    "# Let C be event that engine lasts more than 5000 KM.\n",
    "P_C_given_A = 0.99\n",
    "\n",
    "# Similarly from given info\n",
    "P_C_given_B = 0.95\n",
    "\n",
    "P_C_and_A = P_C_given_A * P_A\n",
    "P_C_and_B = P_C_given_B * P_B\n",
    "\n",
    "# Therefore, \n",
    "P_C = P_C_and_A + P_C_and_B\n",
    "P_C"
   ]
  },
  {
   "cell_type": "markdown",
   "metadata": {},
   "source": [
    "**Voters**\n",
    "\n",
    "Of the total population of three states X, Y, and Z, 43% are from state X, 25% are from state Y, and 32% are from state Z. A poll is taken and the result is the following:\n",
    "\n",
    "- 53% of the voters support John Doe in state X.\n",
    "- 67% of the voters support John Doe in state Y.\n",
    "- 32% of the voters support John Doe in state Z.\n",
    "\n",
    "Given that a voter supports John Doe, answer the following questions.\n",
    "\n",
    "**What is the probability that the voter lives in state X and supports John Doe?**"
   ]
  },
  {
   "cell_type": "code",
   "execution_count": 66,
   "metadata": {},
   "outputs": [
    {
     "data": {
      "text/plain": [
       "0.22790000000000002"
      ]
     },
     "execution_count": 66,
     "metadata": {},
     "output_type": "execute_result"
    }
   ],
   "source": [
    "P_X = 0.43\n",
    "\n",
    "P_Support_given_X = 0.53\n",
    "\n",
    "P_X_n_Support = P_X * P_Support_given_X\n",
    "P_X_n_Support"
   ]
  },
  {
   "cell_type": "markdown",
   "metadata": {},
   "source": [
    "**Q2: What is the probability that the voter lives in state Z and does not support John Doe?**"
   ]
  },
  {
   "cell_type": "code",
   "execution_count": 67,
   "metadata": {},
   "outputs": [
    {
     "data": {
      "text/plain": [
       "0.2176"
      ]
     },
     "execution_count": 67,
     "metadata": {},
     "output_type": "execute_result"
    }
   ],
   "source": [
    "P_Z = 0.32\n",
    "P_Support_given_Z = 0.32\n",
    "P_NoSupport_given_Z = 1 - P_Support_given_Z\n",
    "\n",
    "P_Z_and_NoSupport = P_Z * P_NoSupport_given_Z\n",
    "P_Z_and_NoSupport"
   ]
  },
  {
   "cell_type": "markdown",
   "metadata": {},
   "source": [
    "**Q3: What is the total percentage of voters that support John Doe?**"
   ]
  },
  {
   "cell_type": "code",
   "execution_count": 68,
   "metadata": {},
   "outputs": [
    {
     "data": {
      "text/plain": [
       "0.4978"
      ]
     },
     "execution_count": 68,
     "metadata": {},
     "output_type": "execute_result"
    }
   ],
   "source": [
    "P_X = 0.43\n",
    "P_Y = 0.25\n",
    "P_Z = 0.32\n",
    "\n",
    "P_Support_given_X = 0.53\n",
    "P_Support_given_Y = 0.67\n",
    "P_Support_given_Z = 0.32\n",
    "\n",
    "P_Support = P_X * P_Support_given_X +  P_Y * P_Support_given_Y + P_Z * P_Support_given_Z\n",
    "P_Support\n"
   ]
  },
  {
   "cell_type": "markdown",
   "metadata": {},
   "source": [
    "## Bayes' Rule\n",
    "\n",
    "For any events A and B with positive probabilities:\n",
    "\n",
    "$$\n",
    "P(A \\cap B) = P(A)P(B|A) = P(B)P(A|B)\n",
    "$$\n",
    "\n",
    "This is essentially extension of conditional probability, but has far reaching impact in no so many varied fields. Let's understand it better with examples\n",
    "\n",
    "### Factories and parts\n",
    "A certain electronic part is manufactured by three different vendors named V1, V2, and V3.\n",
    "\n",
    "Half of the parts are produced by V1, 25% by V2, and the rest by V3. \n",
    "\n",
    "The probability of a part being damaged given that it was produced by V1 is 1%, while it's 2% for V2 and 3% for V3.\n",
    "\n",
    "**If a part taken at random is damaged**, answer the following questions.\n",
    "\n",
    "**Q1: What is the probability that the part was manufactured by V1?**"
   ]
  },
  {
   "cell_type": "code",
   "execution_count": 69,
   "metadata": {},
   "outputs": [
    {
     "data": {
      "text/plain": [
       "0.2857142857142857"
      ]
     },
     "execution_count": 69,
     "metadata": {},
     "output_type": "execute_result"
    }
   ],
   "source": [
    "# We need to calculate P(V1|D)\n",
    "\n",
    "# P(V1), P(V2), P(V3)\n",
    "P_V1 = 0.5\n",
    "P_V2 = 0.25\n",
    "P_V3 = 1 - P_V1 - P_V2\n",
    "\n",
    "# P(D|V1)\n",
    "P_D_given_V1 = 0.01\n",
    "P_D_given_V2 = 0.02\n",
    "P_D_given_V3 = 0.03\n",
    "\n",
    "# P(D) = P(V1)P(D|V1) + P(V2)P(D|V2) + P(V3)P(D|V3)\n",
    "P_D = P_V1 * P_D_given_V1 +  P_V2 * P_D_given_V2 +  P_V3 * P_D_given_V3\n",
    "\n",
    "# P(V1|D) = P(V1)P(D|V1)/P(D)\n",
    "P_V1_given_D = (P_V1 * P_D_given_V1)/ P_D\n",
    "P_V1_given_D"
   ]
  },
  {
   "cell_type": "markdown",
   "metadata": {},
   "source": [
    "**Q2: What is the probability that it was manufactured by V2?**"
   ]
  },
  {
   "cell_type": "code",
   "execution_count": 70,
   "metadata": {},
   "outputs": [
    {
     "data": {
      "text/plain": [
       "0.2857142857142857"
      ]
     },
     "execution_count": 70,
     "metadata": {},
     "output_type": "execute_result"
    }
   ],
   "source": [
    "P_V2_given_D = (P_V2 * P_D_given_V2)/ P_D\n",
    "P_V2_given_D"
   ]
  },
  {
   "cell_type": "markdown",
   "metadata": {},
   "source": [
    "**Q3: What is the probability that the part was manufactured by V3?**"
   ]
  },
  {
   "cell_type": "code",
   "execution_count": 71,
   "metadata": {},
   "outputs": [
    {
     "data": {
      "text/plain": [
       "0.4285714285714285"
      ]
     },
     "execution_count": 71,
     "metadata": {},
     "output_type": "execute_result"
    }
   ],
   "source": [
    "P_V3_given_D = (P_V3 * P_D_given_V3)/ P_D\n",
    "P_V3_given_D"
   ]
  },
  {
   "cell_type": "markdown",
   "metadata": {},
   "source": [
    "### Swine flu blood test\n",
    "You go to the doctor about a strong headache. The doctor randomly selects you for a blood test for swine flu, which is suspected to affect 1 in 9,000 people in your city. The accuracy of the test is 99%, meaning that the probability of a false positive is 1%. The probability of a false negative is zero.\n",
    "\n",
    "Given that you test positive, answer the following questions.\n",
    "\n",
    "**1.What is the probability that you have the swine flu?** "
   ]
  },
  {
   "cell_type": "code",
   "execution_count": 72,
   "metadata": {},
   "outputs": [
    {
     "data": {
      "text/plain": [
       "0.010990218705352238"
      ]
     },
     "execution_count": 72,
     "metadata": {},
     "output_type": "execute_result"
    }
   ],
   "source": [
    "P_Swine_Flu = 1/9000\n",
    "P_no_Swine_Flu = 1 - P_Swine_Flu\n",
    "\n",
    "P_Positive_g_Swine_Flu = 1\n",
    "P_Positive_g_no_Swine_Flu = 0.01\n",
    "\n",
    "P_Positive = (P_Swine_Flu * P_Positive_g_Swine_Flu) + (P_no_Swine_Flu * P_Positive_g_no_Swine_Flu)\n",
    "\n",
    "P_Swine_flu_g_positive = (P_Positive_g_Swine_Flu * P_Swine_Flu)/P_Positive\n",
    "P_Swine_flu_g_positive"
   ]
  },
  {
   "cell_type": "markdown",
   "metadata": {},
   "source": [
    "**2. You went to Miami and 1 in 350 people came back with swine flu. Calculate the new probability that you'll test positive?**"
   ]
  },
  {
   "cell_type": "code",
   "execution_count": 73,
   "metadata": {},
   "outputs": [
    {
     "name": "stdout",
     "output_type": "stream",
     "text": [
      "0.22271714922048996\n"
     ]
    }
   ],
   "source": [
    "# Individual probabilities & conditional probabilities\n",
    "P_Swine_flu = 1./350\n",
    "P_no_Swine_flu = 1 - P_Swine_flu\n",
    "P_Positive_g_Swine_flu = 1\n",
    "P_Positive_g_no_Swine_flu = 0.01\n",
    "\n",
    "# Probability of Positive\n",
    "P_Positive = (P_Swine_flu * P_Positive_g_Swine_flu) + (P_no_Swine_flu * P_Positive_g_no_Swine_flu)\n",
    "\n",
    "# Bayes' rule for P(Swine_flu|Positive)\n",
    "P_Swine_flu_g_Positive = (P_Swine_flu * P_Positive_g_Swine_flu)  / P_Positive\n",
    "\n",
    "print(P_Swine_flu_g_Positive)"
   ]
  },
  {
   "cell_type": "markdown",
   "metadata": {},
   "source": [
    "**3.If the probability of a false positive is 2%, what is the new probability that you have swine flu after your vacation?**"
   ]
  },
  {
   "cell_type": "code",
   "execution_count": 74,
   "metadata": {},
   "outputs": [
    {
     "name": "stdout",
     "output_type": "stream",
     "text": [
      "0.12531328320802004\n"
     ]
    }
   ],
   "source": [
    "# Individual probabilities & conditional probabilities\n",
    "P_Swine_flu = 1./350\n",
    "P_no_Swine_flu = 1 - P_Swine_flu\n",
    "P_Positive_g_Swine_flu = 1\n",
    "P_Positive_g_no_Swine_flu = 0.02\n",
    "\n",
    "# Probability of Positive\n",
    "P_Positive = P_Swine_flu * P_Positive_g_Swine_flu + P_no_Swine_flu * P_Positive_g_no_Swine_flu\n",
    "\n",
    "# Bayes' rule for P(Swine_flu|Positive)\n",
    "P_Swine_flu_g_Positive = (P_Swine_flu * P_Positive_g_Swine_flu) / P_Positive\n",
    "\n",
    "print(P_Swine_flu_g_Positive)"
   ]
  },
  {
   "cell_type": "markdown",
   "metadata": {},
   "source": [
    "## Poisson Distribution\n",
    "- Used when we are counting number of occurrences of certain events within a time internal or space. It is often approximation of a real life random variable.\n",
    "- Consider number of visits to a website in a day or number of customer visits  in store within one hour. Based on data from previous days, we can say that on average $\\lambda = 15$ customers walk into the store. Of course, there will be more on some days, and fewer on others. In this case we can model number of customers as __Poisson Random Variable__ with parameter $\\lambda = 15$.\n",
    "### Poisson Probability Distribution Function\n",
    "  - A random variable $X$ is said to be __Poisson Random Variable__ with parameter $\\lambda$, shown as $X \\sim \\text{Poisson}(\\lambda)$, if its range is $R_x = \\{0, 1, 2, 3, ..\\}$ and it's PMF is given by\n",
    " \n",
    "$$ P_{X}(k) =  \\begin{cases} \\frac{e^{-\\lambda}\\lambda_{k}}{k!} \\quad \\text{for}\\, k \\in R_x\\\\ 0 \\quad \\text{otherwise}\\end{cases}$$\n",
    "- For proving this we will come back using Taylor Series #Later\n",
    "### Poisson as an approximation for Binomial Distribution\n",
    "    - Poisson distribution can be viewed as limit of Binomial Distribution\n",
    "    - Suppose $X \\sim \\text{Binomial}(n,p)$ where $n$ is very large and $p$ is very small. We can assume in that case that $\\lambda = np$ is a positive constant. Then we can show that PMF of $X$ can be approximated by the PMF of a $\\text{Poisson}(\\lambda)$ random variable.\n",
    "    - Computing Poisson PMF is much easier than Binomial.\n",
    "    - Proof: Ref [Probability course](https://www.probabilitycourse.com/chapter3/3_1_5_special_discrete_distr.php) #Later\n",
    "\n",
    "### More properties of Poisson Distribution\n",
    "\n",
    "- In Poisson Distribution, the outcomes can be classified as success or failures and the average number of successful events per unit is known.\n",
    "- In the case of a customer visit example, each customer visit is a success and the number of successful events per units is number of customers visited per hour (e.g. $\\lambda = 15$)\n",
    "\n",
    "Let's do some practical examples of Poisson Distribution to answer some questions\n",
    "\n",
    "### ATM example\n",
    "\n",
    "If you know how many specific events occurred per unit of measure, you can assume that the distribution of the random variable follows a Poisson distribution to study the phenomenon.\n",
    "\n",
    "Consider an ATM (automatic teller machine) at a very busy shopping mall. The bank wants to avoid making customers wait in line to use the ATM. It has been observed that the average number of customers making withdrawals between 10:00 a.m. and 10:05 a.m. on any given day is 1.\n",
    "\n",
    "As a data analyst at the bank, you are asked what the probability is that the bank will need to install another ATM to handle the load.\n",
    "\n",
    "To answer the question, you need to calculate the probability of getting more than one customer during that time period."
   ]
  },
  {
   "cell_type": "code",
   "execution_count": 75,
   "metadata": {},
   "outputs": [
    {
     "name": "stdout",
     "output_type": "stream",
     "text": [
      "0.2642411176571153\n"
     ]
    }
   ],
   "source": [
    "from scipy.stats import poisson\n",
    "\n",
    "#Probability of more than one customer\n",
    "probability = poisson.sf(k=1, mu=1)\n",
    "print(probability)"
   ]
  },
  {
   "cell_type": "markdown",
   "metadata": {},
   "source": [
    "### Highway example\n",
    "\n",
    "On a certain turn on a very busy highway, there are 2 accidents per day. Let's assume the number of accidents per day can be modeled as a Poisson random variable and is distributed as in the following plot:\n",
    "\n",
    "<img src=\"https://firebasestorage.googleapis.com/v0/b/firescript-577a2.appspot.com/o/imgs%2Fapp%2Fdailygrind%2FfVnDPQMjUt.png?alt=media&token=ed3e7c7e-9c65-445a-b1ab-15a6512c185f\"  width=\"500\">\n",
    "\n",
    "\n",
    "**Q1: Determinethe probability of there being 5 accidents on any day.**"
   ]
  },
  {
   "cell_type": "code",
   "execution_count": 76,
   "metadata": {},
   "outputs": [
    {
     "data": {
      "text/plain": [
       "0.03608940886309672"
      ]
     },
     "execution_count": 76,
     "metadata": {},
     "output_type": "execute_result"
    }
   ],
   "source": [
    "probability = poisson.pmf(k=5, mu=2)\n",
    "probability"
   ]
  },
  {
   "cell_type": "markdown",
   "metadata": {},
   "source": [
    "**Q2: Determine the probability of having 4 or 5 accidents on any day?**"
   ]
  },
  {
   "cell_type": "code",
   "execution_count": 78,
   "metadata": {},
   "outputs": [
    {
     "name": "stdout",
     "output_type": "stream",
     "text": [
      "0.12631293102083851\n"
     ]
    }
   ],
   "source": [
    "P_less_than_6 = poisson.cdf(k=5, mu=2)\n",
    "P_less_than_4 = poisson.cdf(k=3, mu=2)\n",
    "print(P_less_than_6 - P_less_than_4)"
   ]
  },
  {
   "cell_type": "code",
   "execution_count": 79,
   "metadata": {},
   "outputs": [
    {
     "data": {
      "text/plain": [
       "0.12631293102083851"
      ]
     },
     "execution_count": 79,
     "metadata": {},
     "output_type": "execute_result"
    }
   ],
   "source": [
    "#Another way\n",
    "\n",
    "P_4_accidents = poisson.pmf(k=4, mu=2)\n",
    "P_5_accidents = poisson.pmf(k=5, mu=2)\n",
    "P_4_or_5_accidents = P_4_accidents + P_5_accidents\n",
    "P_4_or_5_accidents"
   ]
  },
  {
   "cell_type": "markdown",
   "metadata": {},
   "source": [
    "**Q3: Determine the probability of having more than 3 accidents on any day.**"
   ]
  },
  {
   "cell_type": "code",
   "execution_count": 80,
   "metadata": {},
   "outputs": [
    {
     "data": {
      "text/plain": [
       "0.14287653950145296"
      ]
     },
     "execution_count": 80,
     "metadata": {},
     "output_type": "execute_result"
    }
   ],
   "source": [
    "P_more_than_3_accidents = poisson.sf(k=3, mu=2)\n",
    "P_more_than_3_accidents"
   ]
  },
  {
   "cell_type": "markdown",
   "metadata": {},
   "source": [
    "**Q4: Determine the number of accidents that is likely to happen with 0.75 probability.**"
   ]
  },
  {
   "cell_type": "code",
   "execution_count": 81,
   "metadata": {},
   "outputs": [
    {
     "data": {
      "text/plain": [
       "3.0"
      ]
     },
     "execution_count": 81,
     "metadata": {},
     "output_type": "execute_result"
    }
   ],
   "source": [
    "accidents_more_than_75_p = poisson.ppf(q=0.75, mu=2)\n",
    "accidents_more_than_75_p"
   ]
  },
  {
   "cell_type": "markdown",
   "metadata": {},
   "source": [
    "### Generating and plotting Poisson distributions\n",
    "\n",
    "Recall that on a certain highway turn, there are 2 accidents per day on average. Assuming the number of accidents per day can be modeled as a Poisson random variable, let's plot the distribution."
   ]
  },
  {
   "cell_type": "code",
   "execution_count": 82,
   "metadata": {},
   "outputs": [
    {
     "data": {
      "image/png": "[encoded data removed]",
      "text/plain": [
       "<Figure size 432x288 with 1 Axes>"
      ]
     },
     "metadata": {
      "needs_background": "light"
     },
     "output_type": "display_data"
    }
   ],
   "source": [
    "from scipy.stats import poisson\n",
    "import matplotlib.pyplot as plt\n",
    "import seaborn as sns\n",
    "\n",
    "# create a sample of poisson distribution of size=10000\n",
    "sample = poisson.rvs(mu=2, size=10000, random_state=21)\n",
    "\n",
    "sns.distplot(sample, kde=False)\n",
    "plt.show()"
   ]
  },
  {
   "cell_type": "markdown",
   "metadata": {},
   "source": [
    "## Continuous Random Variable\n",
    "\n",
    "Unlike [Discrete Random Variables](#Discrete-Random-Variable) Continuous random variables is a random variable which can take infinitely many values. Consider time taken to complete a project. This is a continuous random variable as this can take infinitely many values.\n",
    "\n",
    "Just like discrete random variables have [Probability Mass Function](#Probability-Mass-Function) which allows us to calculate the probability of getting a particular outcome for a *discrete random variable.* continuous random variable has Probability Density Function.\n",
    "\n",
    "### Probability Density Function\n",
    "\n",
    "For any continuous random variable with probability density function (PDF) $f(x)$, we have that:\n",
    "\n",
    "$$\n",
    "\\int_{all x} f(x) dx = 1\n",
    "$$\n",
    "\n",
    "### Cumulative Distribution Function\n",
    "If X is a continuous random variable with PDF f(x) defined on $$a \\le x \\le b$$, then the cumulative distribution function (CDF), written $F(t)$ is given by:\n",
    "\n",
    "$$\n",
    "F(t) = P(X \\le t) = \\int_{a}^{t} f(x)dx\n",
    "$$\n"
   ]
  },
  {
   "cell_type": "markdown",
   "metadata": {},
   "source": [
    "## Normal Distribution\n",
    "- Normal Distribution is one of the most common and important probability distributions. \n",
    "- Before digging deeper into it, let's get basic understanding of Central Limit Theorem first. Central Limit Theorem says that if you add large number of random variables, the distribution of the sum will approximately be __normal__ under certain conditions. \n",
    "- This is important, because many real life random variables can be expressed as sum of a large number of random variables, and by definition of Central Limit Theorem, their distribution should be __normal__. \n",
    "- Another name for Normal Distribution is \"Gaussian Distribution\". \n",
    "- Probability Density Function of the normal distribution is a bell shaped curve.\n",
    "    - Probability Density Function assigns relative likelihood to each possible outcome in the sample space.\n",
    "    <img src=\"https://firebasestorage.googleapis.com/v0/b/firescript-577a2.appspot.com/o/imgs%2Fapp%2Fstoicliving%2Fs_nbttGq5N.png?alt=media&token=eae7c817-da7f-4820-9cde-aaf3bfc90956\"  width=\"500\">\n",
    "- The plot is dense and symmetric around the mean. (in a bell shaped curve) \n",
    "    - This means probability of getting a value below the mean is same probability of getting a value above the mean. (0.5)\n",
    "    - The mean is the value with highest probability density\n",
    "    <img src=\"https://firebasestorage.googleapis.com/v0/b/firescript-577a2.appspot.com/o/imgs%2Fapp%2Fstoicliving%2FROJpurnrlC.png?alt=media&token=a5e4dfac-9ab6-4a90-9c3e-f31652407128\"  width=\"500\">\n",
    "\n",
    "- Comparing the two plots, probability of getting 0 is higher than -1. What about the probability of getting value between 0 and -1? For that we calculate Cumulative Distribution Function (CDF) which calculate the area under the curve of a PDF.\n",
    "<img src=\"https://firebasestorage.googleapis.com/v0/b/firescript-577a2.appspot.com/o/imgs%2Fapp%2Fstoicliving%2FJKpEUJ7ZvX.png?alt=media&token=3d750b8b-90ba-48d4-a912-14f02ba96572\"  width=\"500\">\n",
    "\n",
    "- Standard Deviation of the PDF is a measure of how spread out the probability density is.\n",
    "\n",
    "- <img src=\"https://firebasestorage.googleapis.com/v0/b/firescript-577a2.appspot.com/o/imgs%2Fapp%2Fstoicliving%2FGpXW1oscxD.png?alt=media&token=bc59f4e8-a155-4b53-aacc-3462309f6d53\"  width=\"500\">\n",
    "    - `std(blue) > std(green) > std(red)`\n",
    "    - The lower the value of standard deviation the more concentrated the probability density around the mean.\n",
    "- More properties of Normal Distribution:\n",
    "    - It is often interesting to know how far the data is from the mean in terms of standard deviation. \n",
    "    - In any normal distribution, ~0.68 is concentrated 1 standard deviation around the mean.\n",
    "    - <img src=\"https://firebasestorage.googleapis.com/v0/b/firescript-577a2.appspot.com/o/imgs%2Fapp%2Fstoicliving%2FX5-NmLKJ7n.png?alt=media&token=f8f4f5e7-9d5f-42e6-90e1-a1472a902cd2\"  width=\"500\">\n",
    "\n",
    "    - Similarly, 0.95 is concentrated around 2 standard deviation around the mean.\n",
    "    - <img src=\"https://firebasestorage.googleapis.com/v0/b/firescript-577a2.appspot.com/o/imgs%2Fapp%2Fstoicliving%2FpoM6kIb9WI.png?alt=media&token=1f3ae570-aa5f-438a-a588-5ccd874ec6d3\"  width=\"500\">"
   ]
  },
  {
   "cell_type": "markdown",
   "metadata": {},
   "source": [
    "### Exercises\n",
    "\n",
    "#### Restaurant spending\n",
    "A certain restaurant chain has been collecting data about customer spending. The data shows that the spending is approximately normally distributed, with a mean of \\\\$3.15 and a standard deviation of \\\\$1.50 per customer. \n",
    "\n",
    "1. Plot the Normal Distribution for the given mean and std."
   ]
  },
  {
   "cell_type": "code",
   "execution_count": 83,
   "metadata": {},
   "outputs": [
    {
     "data": {
      "image/png": "[encoded data removed]",
      "text/plain": [
       "<Figure size 432x288 with 1 Axes>"
      ]
     },
     "metadata": {
      "needs_background": "light"
     },
     "output_type": "display_data"
    }
   ],
   "source": [
    "# Import norm, matplotlib.pyplot, and seaborn\n",
    "from scipy.stats import norm\n",
    "import matplotlib.pyplot as plt\n",
    "import seaborn as sns\n",
    "\n",
    "# Create the sample using norm.rvs()\n",
    "sample = norm.rvs(loc=3.15, scale=1.5, size=10000, random_state=13)\n",
    "\n",
    "# Plot the sample\n",
    "sns.distplot(sample)\n",
    "plt.show()"
   ]
  },
  {
   "cell_type": "markdown",
   "metadata": {},
   "source": [
    "2. What is the probability that a customer will spend $3 or less?"
   ]
  },
  {
   "cell_type": "code",
   "execution_count": 84,
   "metadata": {},
   "outputs": [
    {
     "data": {
      "text/plain": [
       "0.46017216272297107"
      ]
     },
     "execution_count": 84,
     "metadata": {},
     "output_type": "execute_result"
    }
   ],
   "source": [
    "spending = norm.cdf(3, loc=3.15, scale=1.5)\n",
    "spending"
   ]
  },
  {
   "cell_type": "markdown",
   "metadata": {},
   "source": [
    "3. What is the probability that a customer will spend more than $5?"
   ]
  },
  {
   "cell_type": "code",
   "execution_count": 85,
   "metadata": {},
   "outputs": [
    {
     "data": {
      "text/plain": [
       "0.10872571321259111"
      ]
     },
     "execution_count": 85,
     "metadata": {},
     "output_type": "execute_result"
    }
   ],
   "source": [
    "spending = norm.sf(5, loc=3.15, scale=1.5)\n",
    "spending"
   ]
  },
  {
   "cell_type": "markdown",
   "metadata": {},
   "source": [
    "4. What is the probability that a customer will spend more than \\\\$2.15 and \\\\$4.15 or less?"
   ]
  },
  {
   "cell_type": "code",
   "execution_count": 86,
   "metadata": {},
   "outputs": [
    {
     "name": "stdout",
     "output_type": "stream",
     "text": [
      "0.4950149249061543\n"
     ]
    }
   ],
   "source": [
    "spending_A = norm.cdf(4.15, loc=3.15, scale=1.5)\n",
    "spending_B = norm.cdf(2.15, loc=3.15, scale=1.5)\n",
    "print(spending_A - spending_B)"
   ]
  },
  {
   "cell_type": "markdown",
   "metadata": {},
   "source": [
    "5. What is the probability that a customer will spend \\\\$2.15 or less or more than \\\\$4.15?"
   ]
  },
  {
   "cell_type": "code",
   "execution_count": 87,
   "metadata": {},
   "outputs": [
    {
     "name": "stdout",
     "output_type": "stream",
     "text": [
      "0.5049850750938457\n"
     ]
    }
   ],
   "source": [
    "spending_A = norm.cdf(2.15, loc=3.15, scale=1.5)\n",
    "spending_B = norm.sf(4.15, loc=3.15, scale=1.5)\n",
    "print(spending_A + spending_B)"
   ]
  },
  {
   "cell_type": "markdown",
   "metadata": {},
   "source": [
    "#### Smartphone battery example\n",
    "One of the most important things to consider when buying a smartphone is how long the battery will last.\n",
    "Suppose the period of time between charges can be modeled with a normal distribution with a mean of 5 hours and a standard deviation of 1.5 hours.\n",
    "\n",
    "A friend wants to buy a smartphone and is asking you the following questions.\n",
    "1. What is the probability that the battery will last less than 3 hours?"
   ]
  },
  {
   "cell_type": "code",
   "execution_count": 88,
   "metadata": {},
   "outputs": [
    {
     "name": "stdout",
     "output_type": "stream",
     "text": [
      "0.09121121972586788\n"
     ]
    }
   ],
   "source": [
    "# Probability that battery will last less than 3 hours\n",
    "less_than_3h = norm.cdf(3, loc=5, scale=1.5)\n",
    "print(less_than_3h)"
   ]
  },
  {
   "cell_type": "markdown",
   "metadata": {},
   "source": [
    "2. What is the probability that the battery will last more than 3 hours?"
   ]
  },
  {
   "cell_type": "code",
   "execution_count": 89,
   "metadata": {},
   "outputs": [
    {
     "name": "stdout",
     "output_type": "stream",
     "text": [
      "0.9087887802741321\n"
     ]
    }
   ],
   "source": [
    "# Probability that battery will last more than 3 hours\n",
    "more_than_3h = norm.sf(3, loc=5, scale=1.5)\n",
    "print(more_than_3h)"
   ]
  },
  {
   "cell_type": "markdown",
   "metadata": {},
   "source": [
    "3. What is the probability that the battery will last between 5 and 7 hours?"
   ]
  },
  {
   "cell_type": "code",
   "execution_count": 90,
   "metadata": {},
   "outputs": [
    {
     "name": "stdout",
     "output_type": "stream",
     "text": [
      "0.4087887802741321\n"
     ]
    }
   ],
   "source": [
    "less_than_5 = norm.cdf(5, loc=5, scale=1.5)\n",
    "less_than_7 = norm.cdf(7, loc=5, scale=1.5)\n",
    "between_5_and_7 = less_than_7 - less_than_5\n",
    "print(between_5_and_7)"
   ]
  },
  {
   "cell_type": "markdown",
   "metadata": {},
   "source": [
    "#### Adults' heights example\n",
    "The heights of adults aged between 18 and 35 years are normally distributed. For males, the mean height is 70 inches with a standard deviation of 4. Adult females have a mean height of 65 inches with a standard deviation of 3.5. You can see how the heights are distributed in this plot:\n",
    "<img src=\"https://firebasestorage.googleapis.com/v0/b/firescript-577a2.appspot.com/o/imgs%2Fapp%2Fstoicliving%2FSCmcbIyxDW.png?alt=media&token=8a41229c-49cd-4fea-b3a4-f584844825ad\"  width=\"500\">\n"
   ]
  },
  {
   "cell_type": "markdown",
   "metadata": {},
   "source": [
    "**Q1: Print the range of female heights one standard deviation from the mean?**"
   ]
  },
  {
   "cell_type": "code",
   "execution_count": 91,
   "metadata": {},
   "outputs": [
    {
     "data": {
      "text/plain": [
       "(61.51939740876586, 68.48060259123413)"
      ]
     },
     "execution_count": 91,
     "metadata": {},
     "output_type": "execute_result"
    }
   ],
   "source": [
    "#one standard deviation = 0.68 alpha\n",
    "\n",
    "height_range = norm.interval(alpha=0.68, loc=65, scale=3.5)\n",
    "height_range"
   ]
  },
  {
   "cell_type": "markdown",
   "metadata": {},
   "source": [
    "**Q2: Print the value where the tallest males fall with 0.01 probability?**"
   ]
  },
  {
   "cell_type": "code",
   "execution_count": 92,
   "metadata": {},
   "outputs": [
    {
     "data": {
      "text/plain": [
       "79.30539149616337"
      ]
     },
     "execution_count": 92,
     "metadata": {},
     "output_type": "execute_result"
    }
   ],
   "source": [
    "# we will use PPF: Percent point function (inverse of cdf — percentiles).\n",
    "tallest = norm.ppf(q=0.99, loc=70, scale=4)\n",
    "tallest"
   ]
  },
  {
   "cell_type": "markdown",
   "metadata": {},
   "source": [
    "**Q3: Print the probability of being taller than 73 inches for a male and for a female.**"
   ]
  },
  {
   "cell_type": "code",
   "execution_count": 93,
   "metadata": {},
   "outputs": [
    {
     "name": "stdout",
     "output_type": "stream",
     "text": [
      "0.2266273523768682 0.011135489479616392\n"
     ]
    }
   ],
   "source": [
    "male_probability = norm.sf(73, loc=70, scale=4)\n",
    "female_probability = norm.sf(73, loc=65, scale=3.5)\n",
    "print(male_probability, female_probability)"
   ]
  },
  {
   "cell_type": "markdown",
   "metadata": {},
   "source": [
    "**Q4: Print the probability of being shorter than 61 inches for a male and for a female.**"
   ]
  },
  {
   "cell_type": "code",
   "execution_count": 94,
   "metadata": {},
   "outputs": [
    {
     "name": "stdout",
     "output_type": "stream",
     "text": [
      "0.012224472655044696 0.12654895447355774\n"
     ]
    }
   ],
   "source": [
    "# Probability of being shorter than 61 inches for males and females\n",
    "P_shorter_male = norm.cdf(61, loc=70, scale=4)\n",
    "P_shorter_female = norm.cdf(61, loc=65, scale=3.5)\n",
    "print(P_shorter_male, P_shorter_female)"
   ]
  },
  {
   "cell_type": "markdown",
   "metadata": {},
   "source": [
    "## Geometric Distributions\n",
    "\n",
    "Remember how we use Binomial Distribution to model a series of experiments with success/failure outcomes. Now with Geometric Distribution we model a series of failed outcomes until we obtain a success one.\n",
    "\n",
    "Let's understand this better with example\n",
    "\n",
    "### Catching Salmon\n",
    "\n",
    "<img src=\"https://assets.datacamp.com/production/repositories/3819/datasets/6e0afe1b46b19b874dcfbea4c27be8df6fe257e6/grizzly-bears-catching-salmon-in-alaska-beck-photography.jpg\" width=500>\n",
    "\n",
    "Every fall the salmon run occurs -- this is the time when salmon swim back upriver from the ocean to spawn. While swimming back to the upper river (usually to the place where they were spawned), the fish may encounter grizzly bears. Some of these bears can eat 18 salmon in 3 hours, and they have a 0.0333 probability of success in their attempts to catch a fish.\n",
    "\n",
    "\n",
    "We can model grizzly bear catching a salmon with a geometric distribution.\n",
    "\n",
    "**Q1: Calculate the probability that the bear will catch a salmon on its third attempt, after failing two times.**"
   ]
  },
  {
   "cell_type": "code",
   "execution_count": 95,
   "metadata": {},
   "outputs": [
    {
     "data": {
      "text/plain": [
       "0.031119146037000004"
      ]
     },
     "execution_count": 95,
     "metadata": {},
     "output_type": "execute_result"
    }
   ],
   "source": [
    "from scipy.stats import geom\n",
    "probability = geom.pmf(k=3, p=0.0333)\n",
    "probability"
   ]
  },
  {
   "cell_type": "markdown",
   "metadata": {},
   "source": [
    "**Q2:Calculate the probability that the bear will get a salmon in less than 5 attempts?**"
   ]
  },
  {
   "cell_type": "code",
   "execution_count": 96,
   "metadata": {},
   "outputs": [
    {
     "data": {
      "text/plain": [
       "0.1266931345109679"
      ]
     },
     "execution_count": 96,
     "metadata": {},
     "output_type": "execute_result"
    }
   ],
   "source": [
    "probability = geom.cdf(k=4, p=0.0333)\n",
    "probability"
   ]
  },
  {
   "cell_type": "markdown",
   "metadata": {},
   "source": [
    "**Q3:Calculate the probability that the bear will get a salmon in less than 21 attempts?**"
   ]
  },
  {
   "cell_type": "code",
   "execution_count": 97,
   "metadata": {},
   "outputs": [
    {
     "name": "stdout",
     "output_type": "stream",
     "text": [
      "0.4920343187252892\n"
     ]
    }
   ],
   "source": [
    "# Probability of getting a salmon in less than 21 attempts\n",
    "probability = geom.cdf(k=20, p=0.0333)\n",
    "\n",
    "# Print the result\n",
    "print(probability)"
   ]
  },
  {
   "cell_type": "markdown",
   "metadata": {},
   "source": [
    "**Q4:Calculate how many attempts the bear has to make to have a 0.9 probability of catching a salmon?**"
   ]
  },
  {
   "cell_type": "code",
   "execution_count": 98,
   "metadata": {},
   "outputs": [
    {
     "data": {
      "text/plain": [
       "68.0"
      ]
     },
     "execution_count": 98,
     "metadata": {},
     "output_type": "execute_result"
    }
   ],
   "source": [
    "attempts = geom.ppf(q=0.9, p=0.0333)\n",
    "attempts"
   ]
  },
  {
   "cell_type": "markdown",
   "metadata": {},
   "source": [
    "### Free throws example\n",
    "Suppose you know that a basketball player has a 0.3 probability of scoring a free throw. What is the probability of them missing with the first throw and scoring with the second?"
   ]
  },
  {
   "cell_type": "code",
   "execution_count": 99,
   "metadata": {},
   "outputs": [
    {
     "data": {
      "text/plain": [
       "0.21"
      ]
     },
     "execution_count": 99,
     "metadata": {},
     "output_type": "execute_result"
    }
   ],
   "source": [
    "probability = geom.pmf(k=2, p=0.3)\n",
    "probability"
   ]
  },
  {
   "cell_type": "markdown",
   "metadata": {},
   "source": [
    "### Generating and plotting geometric distributions\n",
    "In sports it is common for players to make multiple attempts to score points for themselves or their teams. Each single attempt can have two possible outcomes, scoring or not scoring. Those situations can be modeled with geometric distributions.\n",
    "\n",
    "Let's consider the same player as above and plot the geometric distribution of his free throws."
   ]
  },
  {
   "cell_type": "code",
   "execution_count": 100,
   "metadata": {},
   "outputs": [
    {
     "data": {
      "image/png": "[encoded data removed]",
      "text/plain": [
       "<Figure size 432x288 with 1 Axes>"
      ]
     },
     "metadata": {
      "needs_background": "light"
     },
     "output_type": "display_data"
    }
   ],
   "source": [
    "from scipy.stats import geom\n",
    "import matplotlib.pyplot as plt\n",
    "import seaborn as sns\n",
    "import numpy as np\n",
    "\n",
    "sample = geom.rvs(p=0.3, size=10000, random_state=21)\n",
    "sns.distplot(sample, bins=np.linspace(0, 20, 21), kde=False)\n",
    "plt.show()"
   ]
  },
  {
   "cell_type": "markdown",
   "metadata": {},
   "source": [
    "## Law of large number\n",
    "- The sample mean tends to approach the [expected value](#Expected-Value) as sample size increases.\n",
    "- In other words, as the sample gets larger, the sample mean gets nearer to population mean.\n",
    "\n",
    "Let's understand this better with some code and examples\n",
    "\n",
    "### Generating a sample\n",
    "\n",
    "A hospital's planning department is investigating different treatments for newborns. As a data scientist you are hired to simulate the sex of 250 newborn children, and you are told that on average 50.50% are males."
   ]
  },
  {
   "cell_type": "code",
   "execution_count": 101,
   "metadata": {},
   "outputs": [
    {
     "data": {
      "text/plain": [
       "array([1, 0, 0, 0, 1, 1, 1, 0, 0, 0, 1, 0, 0, 1, 1, 1, 1, 0, 1, 1, 0, 1,\n",
       "       1, 1, 1, 0, 1, 0, 0, 1, 0, 1, 1, 0, 0, 0, 1, 1, 0, 1, 1, 1, 1, 0,\n",
       "       1, 0, 1, 0, 0, 1, 0, 0, 0, 0, 0, 0, 1, 1, 1, 1, 1, 1, 0, 1, 1, 0,\n",
       "       1, 0, 1, 0, 0, 1, 1, 0, 0, 0, 0, 1, 1, 1, 0, 0, 1, 1, 1, 1, 0, 0,\n",
       "       0, 1, 1, 0, 0, 0, 0, 1, 0, 1, 1, 1, 1, 0, 1, 0, 0, 1, 1, 0, 1, 1,\n",
       "       1, 1, 0, 0, 0, 0, 0, 1, 0, 0, 0, 0, 1, 1, 1, 1, 0, 0, 1, 0, 1, 1,\n",
       "       1, 1, 0, 1, 0, 0, 1, 0, 0, 1, 1, 1, 1, 1, 0, 1, 1, 1, 0, 1, 1, 1,\n",
       "       0, 1, 0, 0, 1, 0, 1, 0, 0, 0, 1, 0, 1, 1, 1, 0, 0, 1, 0, 1, 0, 1,\n",
       "       0, 1, 0, 1, 1, 1, 0, 0, 1, 0, 0, 0, 0, 1, 1, 0, 0, 0, 1, 1, 0, 0,\n",
       "       0, 0, 0, 1, 1, 0, 0, 1, 1, 0, 1, 1, 0, 0, 0, 1, 0, 1, 1, 0, 0, 0,\n",
       "       0, 0, 1, 1, 1, 1, 0, 1, 0, 0, 0, 1, 0, 1, 1, 0, 1, 1, 0, 1, 0, 0,\n",
       "       0, 1, 1, 0, 1, 0, 0, 0])"
      ]
     },
     "execution_count": 101,
     "metadata": {},
     "output_type": "execute_result"
    }
   ],
   "source": [
    "from scipy.stats import binom\n",
    "\n",
    "sample=binom.rvs(n=1, p=0.505, size=250, random_state=42)\n",
    "sample"
   ]
  },
  {
   "cell_type": "markdown",
   "metadata": {},
   "source": [
    "### Calculating the sample mean\n",
    "\n",
    "Let's calculate the mean of the first 10 samples"
   ]
  },
  {
   "cell_type": "code",
   "execution_count": 102,
   "metadata": {},
   "outputs": [
    {
     "name": "stdout",
     "output_type": "stream",
     "text": [
      "0.4\n"
     ]
    }
   ],
   "source": [
    "print(describe(sample[0:10]).mean)"
   ]
  },
  {
   "cell_type": "markdown",
   "metadata": {},
   "source": [
    "How about first 50 samples?"
   ]
  },
  {
   "cell_type": "code",
   "execution_count": 103,
   "metadata": {},
   "outputs": [
    {
     "name": "stdout",
     "output_type": "stream",
     "text": [
      "0.56\n"
     ]
    }
   ],
   "source": [
    "print(describe(sample[0:50]).mean)"
   ]
  },
  {
   "cell_type": "markdown",
   "metadata": {},
   "source": [
    "Let's try all 250 samples?"
   ]
  },
  {
   "cell_type": "code",
   "execution_count": 104,
   "metadata": {},
   "outputs": [
    {
     "name": "stdout",
     "output_type": "stream",
     "text": [
      "0.504\n"
     ]
    }
   ],
   "source": [
    "print(describe(sample).mean)"
   ]
  },
  {
   "cell_type": "markdown",
   "metadata": {},
   "source": [
    "### Plotting the sample mean\n",
    "\n",
    "Let's first accumulate all the incremental mean i.e. increasing one sample at a time.\n",
    "Then we plot using `matplotlib`'s `axhline`."
   ]
  },
  {
   "cell_type": "code",
   "execution_count": 105,
   "metadata": {},
   "outputs": [
    {
     "data": {
      "image/png": "[encoded data removed]",
      "text/plain": [
       "<Figure size 432x288 with 1 Axes>"
      ]
     },
     "metadata": {
      "needs_background": "light"
     },
     "output_type": "display_data"
    }
   ],
   "source": [
    "# Calculate sample mean and store it on averages array\n",
    "averages = []\n",
    "for i in range(2, 251):\n",
    "    averages.append(describe(sample[0:i]).mean)\n",
    "\n",
    "# Add population mean line and sample mean plot\n",
    "plt.axhline(binom.mean(n=1, p=0.505), color='red')\n",
    "plt.plot(averages, '-')\n",
    "\n",
    "# Add legend\n",
    "plt.legend((\"Population mean\",\"Sample mean\"), loc='upper right')\n",
    "plt.show()"
   ]
  },
  {
   "cell_type": "markdown",
   "metadata": {},
   "source": [
    "Notice how the sample means is reaching towards population mean."
   ]
  },
  {
   "cell_type": "markdown",
   "metadata": {},
   "source": [
    "## Central Limit Theorem\n",
    "\n",
    "The sum of random variables tends to be a normal distribution as the number of them grows to infinity.\n",
    "\n",
    "Conditions:\n",
    "  - The variables must have the same distribution (it can be any distribution e.g. Poisson, Binomial etc but all involved random variables should have the same type)\n",
    "  - The variables must be independent.\n",
    "  \n",
    "To rephrase, the shape of the distribution of the mean of random variables tends to be a normal distribution.\n",
    "\n",
    "  \n",
    "Let's validate this using code, let's first get the population through a binomial distribution.We will generate a simulated population with size 1,000 that follows a binomial distribution for 10 fair coin flips."
   ]
  },
  {
   "cell_type": "code",
   "execution_count": 106,
   "metadata": {},
   "outputs": [],
   "source": [
    "population = binom.rvs(n=10, p=0.5, size=1000)"
   ]
  },
  {
   "cell_type": "markdown",
   "metadata": {},
   "source": [
    "Now calculate the sample means of 1500 random samples of 20 samples each."
   ]
  },
  {
   "cell_type": "code",
   "execution_count": 107,
   "metadata": {},
   "outputs": [],
   "source": [
    "sample_means = []\n",
    "for _ in range(1500):\n",
    "    sample = np.random.choice(population, 20)\n",
    "    sample_means.append(describe(sample).mean)\n",
    "    "
   ]
  },
  {
   "cell_type": "markdown",
   "metadata": {},
   "source": [
    "Let's plot the histogram"
   ]
  },
  {
   "cell_type": "code",
   "execution_count": 108,
   "metadata": {},
   "outputs": [
    {
     "data": {
      "image/png": "[encoded data removed]",
      "text/plain": [
       "<Figure size 432x288 with 1 Axes>"
      ]
     },
     "metadata": {
      "needs_background": "light"
     },
     "output_type": "display_data"
    }
   ],
   "source": [
    "plt.hist(sample_means)\n",
    "plt.xlabel(\"Sample Mean Values\")\n",
    "plt.ylabel(\"Frequency\")\n",
    "plt.show()"
   ]
  },
  {
   "cell_type": "markdown",
   "metadata": {},
   "source": [
    "The beautiful normal distribution, drawn from a mean of samples of a binomial distribution"
   ]
  },
  {
   "cell_type": "markdown",
   "metadata": {},
   "source": [
    "### Now let's try the same exercise with a Geometric Distribution."
   ]
  },
  {
   "cell_type": "code",
   "execution_count": 109,
   "metadata": {},
   "outputs": [
    {
     "data": {
      "image/png": "[encoded data removed]",
      "text/plain": [
       "<Figure size 432x288 with 1 Axes>"
      ]
     },
     "metadata": {
      "needs_background": "light"
     },
     "output_type": "display_data"
    }
   ],
   "source": [
    "# Generate the population\n",
    "population = geom.rvs(p=0.5, size=1000)\n",
    "\n",
    "# Create list for sample means\n",
    "sample_means = []\n",
    "for _ in range(3000):\n",
    "    # Take 20 values from the population\n",
    "    sample = np.random.choice(population, 20)\n",
    "    # Calculate the sample mean\n",
    "    sample_means.append(describe(sample).mean)\n",
    "\n",
    "# Plot the histogram\n",
    "plt.hist(sample_means)\n",
    "plt.show()"
   ]
  },
  {
   "cell_type": "markdown",
   "metadata": {},
   "source": [
    "### With Poisson Distribution"
   ]
  },
  {
   "cell_type": "code",
   "execution_count": 111,
   "metadata": {},
   "outputs": [
    {
     "data": {
      "image/png": "[encoded data removed]",
      "text/plain": [
       "<Figure size 432x288 with 1 Axes>"
      ]
     },
     "metadata": {
      "needs_background": "light"
     },
     "output_type": "display_data"
    }
   ],
   "source": [
    "# Generate the population\n",
    "population = poisson.rvs(mu=2, size=1000)\n",
    "\n",
    "# Create list for sample means\n",
    "sample_means = []\n",
    "for _ in range(1500):\n",
    "    # Take 20 values from the population\n",
    "    sample = np.random.choice(population, 20)\n",
    "    # Calculate the sample mean\n",
    "    sample_means.append(describe(sample).mean)\n",
    "\n",
    "# Plot the histogram\n",
    "plt.hist(sample_means)\n",
    "plt.show()"
   ]
  },
  {
   "cell_type": "markdown",
   "metadata": {},
   "source": [
    "### Rolling dice\n",
    "\n",
    "Let's use a dice to illustrate central limit theorem. We will first generate 2000 samples of dice rolls and plot a histogram of those values."
   ]
  },
  {
   "cell_type": "code",
   "execution_count": 115,
   "metadata": {},
   "outputs": [],
   "source": [
    "import random\n",
    "np.random.seed(42)\n",
    "def roll_dice(num_rolls):\n",
    "    sample = []\n",
    "    for i in range(num_rolls):\n",
    "        sample.append(random.randint(1,6))\n",
    "    return sample"
   ]
  },
  {
   "cell_type": "code",
   "execution_count": 116,
   "metadata": {},
   "outputs": [
    {
     "data": {
      "image/png": "[encoded data removed]",
      "text/plain": [
       "<Figure size 432x288 with 1 Axes>"
      ]
     },
     "metadata": {
      "needs_background": "light"
     },
     "output_type": "display_data"
    }
   ],
   "source": [
    "sample1 = roll_dice(2000)\n",
    "plt.hist(sample1, bins=range(1,8), width=0.9)\n",
    "plt.show()"
   ]
  },
  {
   "cell_type": "markdown",
   "metadata": {},
   "source": [
    "Let's generate another sample"
   ]
  },
  {
   "cell_type": "code",
   "execution_count": 117,
   "metadata": {},
   "outputs": [
    {
     "data": {
      "image/png": "[encoded data removed]",
      "text/plain": [
       "<Figure size 432x288 with 1 Axes>"
      ]
     },
     "metadata": {
      "needs_background": "light"
     },
     "output_type": "display_data"
    }
   ],
   "source": [
    "sample2 = roll_dice(2000)\n",
    "plt.hist(sample2, bins=range(1,8), width=0.9)\n",
    "plt.show()"
   ]
  },
  {
   "cell_type": "markdown",
   "metadata": {},
   "source": [
    "Now, let's add the two samples and plot them"
   ]
  },
  {
   "cell_type": "code",
   "execution_count": 118,
   "metadata": {},
   "outputs": [
    {
     "data": {
      "image/png": "[encoded data removed]",
      "text/plain": [
       "<Figure size 432x288 with 1 Axes>"
      ]
     },
     "metadata": {
      "needs_background": "light"
     },
     "output_type": "display_data"
    }
   ],
   "source": [
    "sum_of_1_and_2 = np.add(sample1, sample2)\n",
    "plt.hist(sum_of_1_and_2, bins=range(2, 14), width=0.9)\n",
    "plt.show()"
   ]
  },
  {
   "cell_type": "markdown",
   "metadata": {},
   "source": [
    "Adding another sample to the sum"
   ]
  },
  {
   "cell_type": "code",
   "execution_count": 120,
   "metadata": {},
   "outputs": [
    {
     "data": {
      "image/png": "[encoded data removed]",
      "text/plain": [
       "<Figure size 432x288 with 1 Axes>"
      ]
     },
     "metadata": {
      "needs_background": "light"
     },
     "output_type": "display_data"
    }
   ],
   "source": [
    "sample3 = roll_dice(2000)\n",
    "sum_of_3_samples = np.add(sum_of_1_and_2, sample3)\n",
    "plt.hist(sum_of_3_samples, bins=range(3, 20), width=0.9)\n",
    "plt.show()"
   ]
  },
  {
   "cell_type": "code",
   "execution_count": null,
   "metadata": {},
   "outputs": [],
   "source": []
  }
 ],
 "metadata": {
  "kernelspec": {
   "display_name": "Python 3",
   "language": "python",
   "name": "python3"
  },
  "language_info": {
   "codemirror_mode": {
    "name": "ipython",
    "version": 3
   },
   "file_extension": ".py",
   "mimetype": "text/x-python",
   "name": "python",
   "nbconvert_exporter": "python",
   "pygments_lexer": "ipython3",
   "version": "3.8.2"
  }
 },
 "nbformat": 4,
 "nbformat_minor": 4
}
