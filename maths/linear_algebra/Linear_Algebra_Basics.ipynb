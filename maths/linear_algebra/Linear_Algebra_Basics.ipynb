{
 "cells": [
  {
   "cell_type": "markdown",
   "metadata": {},
   "source": [
    "# Linear Algebra Basics\n",
    "\n",
    "Almost all of the machine learning and deep learning algorithms are implemented and conceptualized using Linear Algebra. To get in-depth understanding of the algorithms, it is important to understand the concepts of Linear Algebra. Understanding of these concepts give better intution about inner working of the algorithms, which helps Data Scientists and Machine Learning Engineers better decisions. In this notebook, we will explore basics of Linear Algebra. Future notebooks will cover more advanced topics. We will explore the concepts using code to get better intuition, instead of going too deep in theory. We will also take a small tour of the preliminary concepts required to understand Linear Algebra.\n",
    "\n",
    "Source: [Introduction to Linear Algebra for Applied Machine Learning with Python](https://pabloinsente.github.io/intro-linear-algebra)\n",
    "\n",
    "## Preliminary Concepts\n",
    "\n",
    "Just a small tour of some of the preliminary algebra concepts before we dig deeper into Linear Algebra.\n",
    "\n",
    "### Variables\n",
    "\n",
    "In algebra, variables are letters (like *a*, *b*, *x*...) representing numerical quantities. Variables are used to establish relationships between quantities or to deal with unknowns (and eventually find their values). Symbols representing unchanging numerical quantities (like $\\pi$ for instance) are called ***mathematical constants*** or just ***constants***. Variables are very powerful because they express ideas using objects that are not fixed.  \n",
    "\n",
    "#### Dependent and Independent variables\n",
    "\n",
    "*Dependent variables* are variables of interest, which depend on ther variables (which are called *independent variables*).  For instance, if we have some dataset representing maximum temperature of each day for the entire year of a certain place. This dataset will let us explore evolution of temperature over time. Therefore, temperature is our dependent variable and time is our independent variable. (Ofcourse, if are exploring evolution of time over temperature, which doesn't make sense, this will be vice versa). In a 2-D cartesian plane, dependent variables are usually plotted on *y* axis and independent variable on *y* axis.\n",
    "\n",
    "### Equation and Inequalities\n",
    "\n",
    "We use variables to construct expressions like equations or in-equalities. Equations are used to express relationships between variables. One or multiple variables can be unknown in an equation.\n",
    "\n",
    "$$\n",
    "y = mx + b\n",
    "$$\n",
    "\n",
    "Here are we are expressing relationship between *x* and *y*, here *m* and *b* are parameters usually takes a constant values for one individual equation.\n",
    "\n",
    "\n",
    "\n",
    "### Sets\n",
    "\n",
    "Sets are one of the most fundamental concepts in Mathematics. Sets are **well-defined collection of objects**. The objects which make the set are called **elements** or **members** of the set. Your english class, a team of Cricket, or dance group could be called as Set, and the students in english class, the player in cricket or dancer in dance group are members or elements of these sets consecutively.\n",
    "\n",
    "In linear algebra terms, a *line* is a set of *points* and set of all lines is a set of sets. *Vectors* could be called as set of points and *Matrices* as set of vectors. Sets are usually represented a single upper case italic letter e.g. *A*.   \n",
    "\n",
    "### Belonging and Inclusion\n",
    "\n",
    "If a certain element *a* is part of set *A*, We denote that *a* belongs to (or in other words 'is an *element* or *member* of') *A* with greek letter epsilon as:\n",
    "\n",
    "$$a \\in \\textit{A}$$\n",
    "\n",
    "If all the members of set *B* are also members of set *A*, then we can say *B* is subset of *A* (usually the smaller is subset of bigger). In other words *A* includes *B*.\n",
    "\n",
    "$$\n",
    "\\textit{B} \\in \\textit{A}\n",
    "$$\n",
    "\n",
    "or\n",
    "\n",
    "$$\n",
    "\\textit{A} \\in \\textit{B}\n",
    "$$\n",
    "\n",
    "Belonging and inclusions are derieved from **Axiom of extension**: *Two sets are equal if and only if they have the same elements.* \n",
    "\n",
    "### Set Specification\n",
    "\n",
    "In general, anything we assert about the elements of the set results in *generation of a subset*. In other words, asserting things about the sets is a way to manufacture subsets. Take as an example of set of Books denoted as $\\textit{B}$. If I can assert \"$\\textit{b}$ is fiction\", such an assertion will likely be true for some of the elements of the set of all books $\\textit{B}$, and false for others. Hence, such a sentence is evaluated for all members of $\\textit{B}$ will generate a subset: *the set of all fiction books*. This is denoted as:\n",
    "\n",
    "$$\n",
    "\\textit{F} =\\{b \\subset \\textit{B} : \\text{b is fiction}\\}\n",
    "$$\n",
    "\n",
    "or\n",
    "\n",
    "$$\n",
    "\\textit{F} =\\{b \\subset \\textit{B} \\vert \\text{b is fiction}\\}\n",
    "$$\n",
    "\n",
    "The colon ($:$) or the vertical bar ($\\vert$) is read as \"such that\". There we can read above expression as: *all elements of $F$ in $\\textit{B}$ such that $b$ is fiction*. That is how we obtain a subset from another set.\n",
    "\n",
    "Set generation depends on the **axiom of specification**: *To every set $\\textit{A}$* and to every condition $\\textit{S}(x)$ there corresponds a set $\\textit{B}$ whose elements are exactly those elements $\\textit{a} \\in \\textit{A}$ for which $\\textit{S}(x)$ holds true.\n",
    "\n",
    "A condition $\\textit{S}(x)$ is any sentence or assertion about elements of $\\textit{A}$. Valid sentences are either of belonging or equality. When we combine belonging and equality assertions with logic operators (not, if, and or, etc), we can build any legal set.\n",
    "\n",
    "### Ordered and Unordered Sets\n",
    "\n",
    "Sets are usually used in two ways *Ordered* and *Unordered*. An *Ordered* set is where we care about the order in which elements are represented in the set. e.g. representation of a vertices:\n",
    "\n",
    "$$\n",
    "\\{x, y\\} \\neq \\{y, x\\}\n",
    "$$\n",
    "\n",
    "\n",
    "In case of an *Unordered* set, the order of the elements in set doesn't matter. e.g. a random list of names.\n",
    "\n",
    "### Relations\n",
    "\n",
    "There can be *relations* among the sets or between the elements of the sets. Relation can be *binary*, *ternary* .. or *n-ary*. In current case, we are only considering binary relations. In set theory, relations are *sets of ordered pair* denoted by $\\textit{R}$. Therefore, we can express relation between $\\textit{x}$ and $\\textit{y}$ as:\n",
    "$$\n",
    "x R y\n",
    "$$\n",
    "\n",
    "For any $\\textit{z} \\in \\textit{R}$, there exist $\\textit{x}$ and $\\textit{y}$ such that $\\textit{z} = (\\textit{x}, \\textit{y})$\n",
    "\n",
    "This gives us notion of *domain* and *range*. The **domain** is a set defined as:\n",
    "$$\n",
    "\\text{dom }\\textit{R} = \\{\\textit{x}: \\text{for some y (x R y)}\\} \n",
    "$$\n",
    "\n",
    "This reads as: The values of *x* such that for at least one element of *y*, *x* has a relation with *y*\n",
    "The **range** is defined as :\n",
    "\n",
    "$$\n",
    "\\text{ran }\\textit{R} = \\{\\textit{y}: \\text{for some x (x R y)}\\} \n",
    "$$\n",
    "\n",
    "This reads as: The set formed by values of *y* such that for at least one element of *x*, *x* has a relation with *y*.\n",
    "\n",
    "### Functions\n",
    "\n",
    "An extension of concepts of *domain* and *range* is the function. Consider a pair of sets *X* and *Y*. The function for *X* to *Y* is a relation such that:\n",
    "\n",
    "* $\\text{dom }\\textit{f} = \\textit{X}$\n",
    "* For each $\\textit{x} \\in \\textit{X}$, there is a unique element of $\\textit{y} \\in \\textit{Y}$ with $\\textit{(x, y)} \\in \\textit{f}$\n",
    "\n",
    "![](utils/functions.png?raw=true)\n",
    "\n",
    "This means that function \"*transform*\" or \"*maps*\" or \"*sends*\" *x* onto *y*, and for each argument *x*, there is a unique value *y* that *f \"assumes\"* or \"*takes*\".\n",
    "\n",
    "Functions are usually denoted as:\n",
    "\n",
    "$$\n",
    "\\textit{f}: \\textit{X} \\longrightarrow \\textit{Y}\n",
    "$$\n",
    "\n",
    "or\n",
    "\n",
    "$$\n",
    "\\textit{f(x)} = \\textit{y}\n",
    "$$\n",
    "\n",
    "\n",
    "\n",
    "#### Functions vs Equations\n",
    "\n",
    "Functions and equations are very similar as they both express relationship between variable. The difference is more a matter of semantics and context. A function on one hand shows how *y* changes as *x* changes, i.e. it shows how the transformation of *x* to *y* happens. This is different from equation which is a declaration that the two things are equal to each other. For example $2^2 = 4$ is an equation.\n",
    "\n",
    "\n",
    "<div class=\"alert alert-block alert-warning\">\n",
    "Functions, relations and equations all imply a relation between variables. However one important thing to note that functions have this mapping between variables as <i>many-to-one</i>. This means that functions can have multiple inputs but must output a single value per input. However it is not possible to have a single input to have multiple alternatives as output. \n",
    "</div>\n",
    "\n",
    "\n",
    "[Author](https://pabloinsente.github.io/intro-linear-algebra) here has given a really good example of what is a function and what is not using the below diagram. \n",
    "\n",
    "![](utils/functions2.png?raw=true)\n",
    "\n",
    "The goal of machine learning is to learn functions from data i.e. Approximate the transformations/mappings/functions which transform the input data to output data.  The domain *X* is usually a vector (or set) of variables or features mapping onto a vector of *target* values. \n",
    "\n",
    "##### Linear Functions\n",
    "\n",
    "Linear functions are functions which can graphically be represented as lines.These functions have a rate of change called *slope* of the line that is continuous.\n",
    "\n",
    "The simplest cases are constant functions. For instance,\n",
    "$$\n",
    "y=2\n",
    "$$\n",
    "The value of y is always the same. It does not vary according to the value of x. This means that we’ll have a horizontal line for y.\n"
   ]
  },
  {
   "cell_type": "code",
   "execution_count": 13,
   "metadata": {},
   "outputs": [
    {
     "data": {
      "image/png": "[encoded data removed]",
      "text/plain": [
       "<Figure size 432x288 with 1 Axes>"
      ]
     },
     "metadata": {},
     "output_type": "display_data"
    }
   ],
   "source": [
    "%matplotlib inline\n",
    "import matplotlib.pyplot as plt\n",
    "import matplotlib.ticker as ticker\n",
    "plt.style.use('seaborn-whitegrid')\n",
    "import numpy as np\n",
    "\n",
    "x = np.linspace(0, 10, 100)\n",
    "plt.plot(x, [2]*len(x), linestyle='solid')\n",
    "plt.show()"
   ]
  },
  {
   "cell_type": "markdown",
   "metadata": {},
   "source": [
    "Equations with non-0 *x* can also be linear. For instance, let’s define a function that multiplies the input by two.\n",
    "\n",
    "$$\n",
    "y = 2x\n",
    "$$"
   ]
  },
  {
   "cell_type": "code",
   "execution_count": 14,
   "metadata": {},
   "outputs": [
    {
     "data": {
      "image/png": "[encoded data removed]",
      "text/plain": [
       "<Figure size 432x288 with 1 Axes>"
      ]
     },
     "metadata": {},
     "output_type": "display_data"
    }
   ],
   "source": [
    "plt.plot(x, 2 * x, linestyle='solid')\n",
    "plt.show()"
   ]
  },
  {
   "cell_type": "markdown",
   "metadata": {},
   "source": [
    "In general, linear equations for 2 variables are represented as \n",
    "\n",
    "$$\n",
    "y = mx + c\n",
    "$$\n",
    "\n",
    "For a value of m = 2 and c = 3, the equation will be \n",
    "\n",
    "$$\n",
    "y = 2x + 3\n",
    "$$\n"
   ]
  },
  {
   "cell_type": "code",
   "execution_count": 15,
   "metadata": {},
   "outputs": [
    {
     "data": {
      "image/png": "[encoded data removed]",
      "text/plain": [
       "<Figure size 432x288 with 1 Axes>"
      ]
     },
     "metadata": {},
     "output_type": "display_data"
    }
   ],
   "source": [
    "plt.plot(x, 2 * x + 3, linestyle='solid', color='green')\n",
    "plt.show()"
   ]
  },
  {
   "cell_type": "markdown",
   "metadata": {},
   "source": [
    "##### Non-linear Functions\n",
    "\n",
    "In previous equation $y = mx + c$, the value of *y* changes linearly as *x* increases or decreases. In case of non-linear functions, *y* doesn't change linearly as *x* changes. Consider function $sin(x)$, here *y* increases or decreases repeatedly as *x* increases. In non-linear functions slope of the line is not constant, i.e. it is not a line anymore.\n",
    "\n",
    "$$\n",
    "y = sin(x)\n",
    "$$"
   ]
  },
  {
   "cell_type": "code",
   "execution_count": 16,
   "metadata": {},
   "outputs": [
    {
     "data": {
      "image/png": "[encoded data removed]",
      "text/plain": [
       "<Figure size 432x288 with 1 Axes>"
      ]
     },
     "metadata": {},
     "output_type": "display_data"
    }
   ],
   "source": [
    "plt.plot(x, np.sin(x), linestyle='solid', color='red')\n",
    "plt.show()"
   ]
  },
  {
   "cell_type": "markdown",
   "metadata": {},
   "source": [
    "Consider another function\n",
    "$$\n",
    "y = x^3\n",
    "$$"
   ]
  },
  {
   "cell_type": "code",
   "execution_count": 17,
   "metadata": {},
   "outputs": [
    {
     "data": {
      "image/png": "[encoded data removed]",
      "text/plain": [
       "<Figure size 432x432 with 1 Axes>"
      ]
     },
     "metadata": {},
     "output_type": "display_data"
    }
   ],
   "source": [
    "a = 1\n",
    "b = 0\n",
    "p = 3\n",
    "\n",
    "# create x and y vectors\n",
    "x = np.linspace(-1, 1, 100)\n",
    "y = a * x ** p + b\n",
    "\n",
    "# choose figure size\n",
    "plt.figure(figsize=(6, 6))\n",
    "\n",
    "# Assure that ticks are displayed with a step equal to 0.5\n",
    "ax = plt.gca()\n",
    "ax.xaxis.set_major_locator(ticker.MultipleLocator(0.5))\n",
    "ax.yaxis.set_major_locator(ticker.MultipleLocator(0.5))\n",
    "\n",
    "# draw axes\n",
    "plt.axhline(0, c='#A9A9A9')\n",
    "plt.axvline(0, c='#A9A9A9')\n",
    "\n",
    "# assure x and y axis have the same scale\n",
    "plt.axis('equal')\n",
    "\n",
    "plt.plot(x, y)\n",
    "plt.show()"
   ]
  },
  {
   "cell_type": "markdown",
   "metadata": {},
   "source": [
    "##### Inverse functions\n",
    "\n",
    "The *inverse* of a function is a function that allows us to from $f(x)$ to $x$, i.e. \n",
    "\n",
    "$$\n",
    "g(f(x)) = x\n",
    "$$\n",
    "\n",
    "$g$ is the inverse function. Let's consider the function \n",
    "$$\n",
    "f(x) = 3x + 8\n",
    "$$\n",
    "\n",
    "What will be the function $g$ such it takes $f(x)$ as it's input and gets back $x$. Let's do it programatically"
   ]
  },
  {
   "cell_type": "code",
   "execution_count": 19,
   "metadata": {},
   "outputs": [
    {
     "data": {
      "text/plain": [
       "14"
      ]
     },
     "execution_count": 19,
     "metadata": {},
     "output_type": "execute_result"
    }
   ],
   "source": [
    "def f(x):\n",
    "    return x * 3 + 8\n",
    "f(2)"
   ]
  },
  {
   "cell_type": "markdown",
   "metadata": {},
   "source": [
    "Now, we can do the opposite transformation on $f(x)$ to get back to $x$. Since we are multiplying by 3 and then adding 8 we should\n",
    "1. Substract the 8\n",
    "2. Divide by 3."
   ]
  },
  {
   "cell_type": "code",
   "execution_count": 20,
   "metadata": {},
   "outputs": [
    {
     "data": {
      "text/plain": [
       "2.0"
      ]
     },
     "execution_count": 20,
     "metadata": {},
     "output_type": "execute_result"
    }
   ],
   "source": [
    "def g(y):\n",
    "    return (y-8)/3\n",
    "\n",
    "g(14)"
   ]
  },
  {
   "cell_type": "markdown",
   "metadata": {},
   "source": [
    "Thus, $g$ here is an inverse function of $f$."
   ]
  },
  {
   "cell_type": "markdown",
   "metadata": {},
   "source": [
    "\n",
    "\n",
    "## Vectors\n",
    "\n",
    "Awesome, now we are rolling. The core of Linear Algebra is *vectors*. From a computer science perspective, the *vectors* are basically *ordered finite list of numbers*. Vectors are the most fundamental objects we use in machine learning. They are used to represent an attribute representing an entity. E.g. let's say you are building a movie recommendation system where each movie is represented as vector. The elements of vector represents the score of the movie in various genres. e.g. $x_{1}$ represents it's drama score, $x_{2}$ represents it's comedy score and so on..Vectors are usually represented by bold lowercase letters like **v** or as lowercase letter with an arrow on top like $\\vec{v}$\n",
    "\n",
    "$$\n",
    "\\vec{v} = \\begin{bmatrix}\n",
    "           x_{1} \\\\\n",
    "           x_{2} \\\\\n",
    "           \\vdots \\\\\n",
    "           x_{m}\n",
    "         \\end{bmatrix}\n",
    "$$\n"
   ]
  },
  {
   "cell_type": "markdown",
   "metadata": {},
   "source": [
    "### Geometrical Perspective of Vector \n",
    "One of the important perspectives of looking at vectors is the geometrical perspective. You might have used or seen this perspective in physics classes e.g. representing a distance. Many linear algebra concepts come from this perspective e.g. space, plane, distance etc. Each vector has a magnitude and a direction. In other words, they are arrows pointing in space, and each has a *length* and *direction*. They can move around in space anywhere.\n",
    "\n",
    "![](utils/vectors_geometric.png?raw=true)\n",
    "\n",
    "### Computer Science Perspective of Vector\n",
    "\n",
    "As we discussed above, in computer science perspective, vectors are finite ordered list of numbers. A set of real numbers is represented as $\\mathbb{R}^\\textit{n}$. It is how data is represented in computers to build machine learning models. For instance , a vector in $\\mathbb{R}^\\textit{3}$ will be represented as\n",
    "\n",
    "\n",
    "$$\n",
    "\\vec{v} = \\begin{bmatrix}\n",
    "           x_{1} \\\\\n",
    "           x_{2} \\\\\n",
    "           x_{3}\n",
    "         \\end{bmatrix} \\in  \\mathbb{R}^\\textit{3}\n",
    "$$\n",
    "\n",
    "*n* in $\\mathbb{R}^\\textit{n}$ represents the dimension of the vector. Also remember that the order matters.\n",
    "\n",
    "### Mathmatician Perspective of vector\n",
    "\n",
    "According to this abstract perspective, the vectors can be anything if:\n",
    "\n",
    "1. There is a notion of adding two vectors together $\\vec{a} + \\vec{b} = \\vec{c}$\n",
    "2. There is a notion of scaling the vector i.e. $ 2 \\times \\vec{a} = 2\\vec{a}$\n",
    "\n",
    "These are the two fundamental properties of vectors.\n",
    "\n",
    "The addition of vectors happens like\n",
    "$$\n",
    "\\begin{bmatrix} x \\\\ y \\\\ z \\end{bmatrix}  + \\begin{bmatrix} a \\\\ b \\\\ c \\end{bmatrix}  = \n",
    "\\begin{bmatrix} x+a \\\\ y+b \\\\ z+c \\end{bmatrix}\n",
    "$$\n",
    "\n",
    "Similarly, vectors can be scaled \n",
    "$$\n",
    "a \\times \\begin{bmatrix} x \\\\ y \\\\ z \\end{bmatrix} = \\begin{bmatrix} a \\times x \\\\ a \\times y \\\\  a \\times z \\end{bmatrix}\n",
    "$$\n",
    "\n",
    "Let's represent vector in code using `NumPy`. In `NumPy` they are nothing but n-dimensional arrays. E.g. To create a vector in $\\mathbb{R}^\\textit{3}$"
   ]
  },
  {
   "cell_type": "code",
   "execution_count": 30,
   "metadata": {},
   "outputs": [],
   "source": [
    "import numpy as np\n",
    "\n",
    "x = np.array([\n",
    "    [1],\n",
    "    [2],\n",
    "    [3]\n",
    "])"
   ]
  },
  {
   "cell_type": "markdown",
   "metadata": {},
   "source": [
    "Let's see the shape of the $\\vec{x}$"
   ]
  },
  {
   "cell_type": "code",
   "execution_count": 24,
   "metadata": {},
   "outputs": [
    {
     "data": {
      "text/plain": [
       "(3, 1)"
      ]
     },
     "execution_count": 24,
     "metadata": {},
     "output_type": "execute_result"
    }
   ],
   "source": [
    "x.shape"
   ]
  },
  {
   "cell_type": "markdown",
   "metadata": {},
   "source": [
    "We have 3 dimensions, and in each dimension, we have one element."
   ]
  },
  {
   "cell_type": "code",
   "execution_count": 25,
   "metadata": {},
   "outputs": [
    {
     "name": "stdout",
     "output_type": "stream",
     "text": [
      "A 3-dimensional vector:\n",
      "[[1]\n",
      " [2]\n",
      " [3]]\n"
     ]
    }
   ],
   "source": [
    "print(f'A 3-dimensional vector:\\n{x}')"
   ]
  },
  {
   "cell_type": "markdown",
   "metadata": {},
   "source": [
    "### Zero vector, Unit Vector and Sparse Vector\n",
    "\n",
    "There are some \"special\" vectors worth paying attention too. They have important meaning and used more frequently concepts of linear algebra and even machine learning.\n",
    "\n",
    "### Zero vector.\n",
    "Zero vector represents a vector which is 0 on all dimension. On a cartesian plan ($\\mathbb{R}^\\textit{2}$), it represents the origin. Sometimes zero vector is just represented as 0 irrespective of the dimensions.\n",
    "\n",
    "Simply\n",
    "\n",
    "$$\n",
    "0\n",
    "$$\n",
    "\n",
    "or \n",
    "\n",
    "$$\n",
    "a = \\begin{bmatrix} 0 \\\\ 0 \\\\ 0 \\\\ 0 \\end{bmatrix}\n",
    "$$\n",
    "\n",
    "### Unit vector.\n",
    "Unit vectors are special vector which has one of the dimensions set to 1, and rest of the dimensions are 0. For a 3-Dimension, $\\vec{i}$, $\\vec{j}$ and  \\vec{k}$ are unit vectors\n",
    "\n",
    "$$\n",
    "\\vec{i} = \\begin{bmatrix} 1 \\\\ 0 \\\\ 0 \\end{bmatrix}, \\vec{j} = \\begin{bmatrix} 0 \\\\ 1  \\\\ 0 \\end{bmatrix}, \\vec{k} = \\begin{bmatrix} 0 \\\\ 0 \\\\ 1 \\end{bmatrix}\n",
    "$$\n",
    "\n",
    "On a cartesian plane, unit vectors are along the axis. Red vector on *x* axis is a unit vector of size 1. Similarly, green vector on *y* axis is a unit vector of size 1\n",
    "![](utils/unit_vectors.png)"
   ]
  },
  {
   "cell_type": "markdown",
   "metadata": {},
   "source": [
    "### Sparse Vectors\n",
    "Spars vectors are the vectors with most elements set to 0. We denote the number of non-zero elements of a vector $\\vec{v}$ as $nnz(\\vec{v})$. The sparse vectors are very common in machine learning or natural language processing where sometimes a sparse vector can be used to represent a word in corpus.\n",
    "\n",
    "## Vector Dimension and Coordinate System\n",
    "\n",
    "As discussed in definition, vectors can have any number of dimensions. The most common are 2-dimensions represents on a cartesian plane, and 3-dimensions to represent space. Vectors are mostly represented as 2-D or 3-D as they are easy to visualize, teach and represent in geometrical form. However, in machine learning we deal with n-Dimensional vectors where *n* can be very large sometimes hundreds or thousands of dimensions. The notation to represent a vector of arbitrary size is\n",
    "$$\n",
    "\\vec{v} = \\begin{bmatrix}\n",
    "           x_{1} \\\\\n",
    "           x_{2} \\\\\n",
    "           \\vdots \\\\\n",
    "           x_{m}\n",
    "         \\end{bmatrix} \\in \\mathbb{R}^\\textit{n}\n",
    "$$\n",
    "\n",
    "Let's go back to 3-Dimension for a second. In three dimension, to represent a vector in space we use 3 coordinates (*x*, *y*, and *z*) which are mapped to 3 perpendicular axes. The origin or the point where these 3 axes intersect is called **origin : (0, 0, 0)**. Therefore when we define a vector e.g :\n",
    "\n",
    "$$\n",
    "\\vec{v} = \\begin{bmatrix}\n",
    "           1 \\\\\n",
    "           2 \\\\\n",
    "           3\n",
    "         \\end{bmatrix} \\in \\mathbb{R}^\\textit{3}\n",
    "$$\n",
    "\n",
    "We are saying, starting from origin move 1 unit in $1^st$ perpendicular direction ($x$ axis), move 2 units in $2^nd$ perpendicular direction ($y$ axis) and move 3 units in $3^rd$ perpendicular direction (axis). Later we will see that when have this set of perpendicular axes we will obtain a basis of a vector space.\n",
    "\n",
    "![](utils/dimensional_systems.png)\n",
    "\n",
    "## Basic vector operatiosn\n",
    "\n",
    "### vector vector additions.\n",
    "\n",
    "In mathematical definition of vectors, one of the two requirements of being a vector is to be able to add two vectors. The addition of vectors is done element wise. Only same dimension vectors can be added together.\n",
    "\n",
    "For instance:\n",
    "\n",
    "$$\n",
    "\\vec{x} + \\vec{y} = \\begin{bmatrix} 1 \\\\ 2 \\\\ 3 \\end{bmatrix} +  \\begin{bmatrix} 2 \\\\ 2  \\\\ 2  \\end{bmatrix} = \\begin{bmatrix} 1+2 \\\\ 2+2 \\\\ 3+2 \\end{bmatrix} = \\begin{bmatrix} 3 \\\\ 4 \\\\ 5 \\end{bmatrix}  \n",
    "$$\n",
    "\n",
    "**Fundamental properties** of vector addition\n",
    "* Commutativity : $\\vec{x} + \\vec{y} = \\vec{y} + \\vec{x}$\n",
    "* Associativity : $(\\vec{x} + \\vec{y}) + \\vec{z} = \\vec{x} + (\\vec{y} + \\vec{z})$\n",
    "* Adding a zero to vector has no effect: $\\vec{x} + 0 = \\vec{x}$\n",
    "* Substracting a vector from itself returns a 0 vector: $\\vec{x} - \\vec{x} = 0$ \n",
    "\n",
    "Let's explore vector addition in `numpy`"
   ]
  },
  {
   "cell_type": "code",
   "execution_count": 27,
   "metadata": {},
   "outputs": [
    {
     "data": {
      "text/plain": [
       "array([[3],\n",
       "       [4],\n",
       "       [5]])"
      ]
     },
     "execution_count": 27,
     "metadata": {},
     "output_type": "execute_result"
    }
   ],
   "source": [
    "x = np.array([\n",
    "    [1],\n",
    "    [2],\n",
    "    [3]\n",
    "])\n",
    "\n",
    "y = np.array([\n",
    "    [2],\n",
    "    [2],\n",
    "    [2]\n",
    "])\n",
    "\n",
    "x+y"
   ]
  },
  {
   "cell_type": "markdown",
   "metadata": {},
   "source": [
    "Another way two add two vectors in `numpy`"
   ]
  },
  {
   "cell_type": "code",
   "execution_count": 28,
   "metadata": {},
   "outputs": [
    {
     "data": {
      "text/plain": [
       "array([[3],\n",
       "       [4],\n",
       "       [5]])"
      ]
     },
     "execution_count": 28,
     "metadata": {},
     "output_type": "execute_result"
    }
   ],
   "source": [
    "np.add(x, y)"
   ]
  },
  {
   "cell_type": "markdown",
   "metadata": {},
   "source": [
    "### vector scalar multiplation.\n",
    "\n",
    "\n",
    "In mathematical definition of vectors, other requirement of being a vector (apart from addition) is to be able to scale a vector by scalar i.e in other words, element-wise multiplication of a vector by a scalar.\n",
    "\n",
    "$$\n",
    "2 \\times \\begin{bmatrix} 1 \\\\ 2 \\\\ 3 \\end{bmatrix} = \\begin{bmatrix}  2 \\times 1 \\\\ 2 \\times 2 \\\\  2 \\times 3 \\end{bmatrix} = \\begin{bmatrix}  2 \\\\ 4 \\\\  6 \\end{bmatrix}\n",
    "$$\n",
    "\n",
    "Scalar multiplication also have following **fundamental properties**:\n",
    "\n",
    "* Associativity: $(\\alpha\\beta)\\vec{x} = \\alpha(\\beta\\vec{x})$\n",
    "* Left-distributive property: $(\\alpha + \\beta)\\vec{x} = \\alpha\\vec{x} + \\beta\\vec{y}$\n",
    "* Right-distributive property: $\\vec{x}(\\alpha + \\beta) = \\vec{x}\\alpha + \\vec{y}\\beta$\n",
    "* Right-distributive property for vector addition: $\\alpha(\\vec{x}+ \\vec{y})=\\alpha\\vec{x}+\\alpha\\vec{y}$\n",
    "\n",
    "In `numpy` we can use `*` operator to achieve this."
   ]
  },
  {
   "cell_type": "code",
   "execution_count": 29,
   "metadata": {},
   "outputs": [
    {
     "data": {
      "text/plain": [
       "array([[2],\n",
       "       [4],\n",
       "       [6]])"
      ]
     },
     "execution_count": 29,
     "metadata": {},
     "output_type": "execute_result"
    }
   ],
   "source": [
    "alpha = 2\n",
    "v = np.array([\n",
    "    [1],\n",
    "    [2],\n",
    "    [3]\n",
    "])\n",
    "\n",
    "alpha * x"
   ]
  },
  {
   "cell_type": "markdown",
   "metadata": {},
   "source": [
    "## Linear Combination of Vectors\n",
    "\n",
    "As the above two operations  (addition and scaling) are the only valid operations of vectors, the combination of these two operations is called **Linear Combination of Vectors**. It is the expression constructed by these two operations. For instance:\n",
    "\n",
    "* For a 2-D space, the linear combination can be expressed by : $a\\vec{v} + b\\vec{u}$\n",
    "* For a 3-D space, the linear combination can be expressed by : $p\\vec{x} + q\\vec{y} + r\\vec{z}$\n",
    "* For a n-D space, the linear combination can be expressed by : $k_{1}\\vec{v_{1}} + k_{2}\\vec{v_{2}} + ... + k_{n}\\vec{v_{n}}$\n",
    "\n",
    "Where *a*, *b*, *p*, *q*, *r*, $k_1$, $k_2$.. $k_n$ are all scalers \n",
    "\n",
    "Another way to express this as:\n",
    "\n",
    "$$\n",
    "\\sum_{i=1}^{k}\\beta_{i}\\vec{v_{i}} = \\beta_{1}\\vec{v_{1}} + \\beta_{2}\\vec{v_{2}} + ... + \\beta_{n}\\vec{v_{n}}\n",
    "$$\n",
    "\n",
    "In column vector term, say for 2-D space we will write it like this:\n",
    "\n",
    "$$\n",
    "\\alpha\\vec{x} + \\beta\\vec{y} = \\alpha\\begin{bmatrix}x1 \\\\ x2  \\end{bmatrix} + \\beta\\begin{bmatrix}y1 \\\\ y2 \\end{bmatrix}\n",
    "$$\n",
    "\n",
    "Consider $\\alpha$ = 2, $\\beta$ = 3, $\\vec{x} = \\begin{bmatrix}2\\\\3\\end{bmatrix}$ and $\\vec{y} = \\begin{bmatrix}4\\\\5\\end{bmatrix}$ Then\n",
    "\n",
    "$$\n",
    "\\alpha\\vec{x} + \\beta\\vec{y} = 2\\begin{bmatrix}2 \\\\ 3  \\end{bmatrix} + 3\\begin{bmatrix}4 \\\\ 5 \\end{bmatrix} = \\begin{bmatrix} 2 \\times 2 + 3 \\times 4 \\\\ 2 \\times 3 + 3 \\times 5 \\end{bmatrix} = \\begin{bmatrix} 16 \\\\ 21 \\end{bmatrix}\n",
    "$$\n",
    "\n",
    "Linear combinations is a very important concept in Linear Algebra. Everything in linear algebra emanates from linear combinations. In `numpy` the linear combination is pretty straight forward:"
   ]
  },
  {
   "cell_type": "code",
   "execution_count": 32,
   "metadata": {},
   "outputs": [
    {
     "data": {
      "text/plain": [
       "array([[16],\n",
       "       [21]])"
      ]
     },
     "execution_count": 32,
     "metadata": {},
     "output_type": "execute_result"
    }
   ],
   "source": [
    "a, b = 2, 3\n",
    "x, y = np.array([[2], [3]]), np.array([[4], [5]])\n",
    "\n",
    "a*x + b*y"
   ]
  },
  {
   "cell_type": "markdown",
   "metadata": {},
   "source": [
    "## Vector - Vector Multiplication\n",
    "\n",
    "Vector-vector multiplication is *dot product* or *inner product*. The dot product of vector $\\vec{x}$ and vector $\\vec{y}$ is :\n",
    "\n",
    "$$\n",
    "\\vec{x}.\\vec{y} = \\begin{bmatrix}x_{1} \\\\ x_{2}\\end{bmatrix}^{T} . \\begin{bmatrix}y_{1} \\\\ y_{2}\\end{bmatrix} = \\begin{bmatrix}x_{1} & x_{2}\\end{bmatrix}.\\begin{bmatrix}y_{1} \\\\ y_{2}\\end{bmatrix} = x_{1} \\times y_{1} + x_{2} \\times y_{2}\n",
    "$$\n",
    "\n",
    "You can see that dot product can only be calculated on vectors of same length (same as addition operation).\n",
    "Remember in geometric definition of the vectors, each vector has two things:\n",
    "1. Magnitude of the vector (i.e. length of the vector)\n",
    "2. The direction of the vector in space.\n",
    "\n",
    "Keeping this geometric view in mind, the dot product between two vectors is based on the projection of one vector onto another. Let's imagine we have two vectors $\\vec{a}$ and $\\vec{b}$ and we want to calculate *How much of vector* $\\vec{a}$ *is pointing in the same direction as the vector* $\\vec{b}$?. We will want a quantity that would be positive if the two vectors are pointing in similar direction, zero if they are perpendicular and negative if the two vectors are in opposite directions. We define the dot vector to capture this quantity.\n",
    "\n",
    "However notice that the question \"*How much of vector* $\\vec{a}$ *is pointing in the same direction as the vector* $\\vec{b}$?\" does not have anything to do with magnitude or length of $\\vec{b}$ (notice we are just talking about $\\vec{b}$ but not \\vec{a}). The answer to aforementioned question should not depend on magnitude of $\\vec{b}$ but only its direction.  For a thought experiment, let's scale the $\\vec{b}$ such that it has only length one. In other words, replace $\\vec{b}$ with a unit vector $\\vec{u}$ which points in same direction as $\\vec{b}$.\n",
    "\n",
    "$$\n",
    "    \\vec{u} = \\frac{\\vec{b}}{\\left\\lVert b \\right\\rVert } \n",
    "$$\n",
    "\n",
    "Now, the dot product of $\\vec{a}$ with unit vector $\\vec{u}$ denoted as $\\vec{a}.\\vec{u}$ is defined to be projection of $\\vec{a}$ in the direction of $\\vec{u}$, or the amount that $\\vec{a}$ is pointing in the same direction as $\\vec{u}$. Let's suppose that $\\vec{a}$ and $\\vec{u}$ are pointing in the similar directions. Then $\\vec{a}.\\vec{u}$ will be the length of the shadow $\\vec{a}$ onto $\\vec{u}$ if their tails are joined together and the source of light (sun) is in direction perpendicular to $\\vec{u}$. By using pythagorus theorem on the formed right angle, we can see that \n",
    "\n",
    "$$\n",
    "    \\vec{a}.\\vec{u} = \\left\\lVert a \\right\\rVert cos \\theta\n",
    "$$\n",
    "\n",
    "![](utils/dot_product.png)\n",
    "\n",
    "Notice that if $\\vec{a}$ and $\\vec{u}$ were perpendicular, there would be no shadow. This is when $\\cos\\theta$ will be $cos\\frac{\\pi}{2} = 0$ and thus $\\vec{a}.\\vec{u}$ is 0. If the angle $\\theta$ between $\\vec{a}$ and $\\vec{u}$ were larger than $\\frac{\\pi}{2}$, then the shadow wouldn't hit $\\vec{u}$ . Since in this case $\\cos\\theta$, the dot product $\\vec{a}.\\vec{u}$ is also negative. You could think of −$\\vec{a}.\\vec{u}$ (which is positive in this case) as being the length of the shadow of $\\vec{a}$ on the vector −$\\vec{u}$, which points in the opposite direction of $\\vec{u}$.\n",
    "\n",
    "Now, let's bring back $\\vec{b}$ to the equation. $\\vec{b}$ might have magnitude different than 1. This dot product will then depend on magnitude of both vectors $\\left\\lVert a \\right\\rVert$ and $\\left\\lVert b \\right\\rVert$ and it should also be *symmetric* in those vectors. Hence we dont want to define  $\\vec{a}.\\vec{b}$ in terms of projection of $\\vec{a}$ on $\\vec{b}$; we want to reduce to this projection for the case when $\\vec{b}$ is a unit vector. We can accomplish this by plugging the definition of $\\vec{u} = \\frac{b}{\\left\\lVert b \\right\\rVert}$ in the equation. This leads to the definition that the dot product $\\vec{a}.\\vec{b}$, divided by the magnitude $\\left\\lVert b \\right\\rVert$ of $\\vec{b}$, is the projection of $\\vec{a}$ onto $\\vec{b}$.\n",
    "\n",
    "$$\n",
    "\\frac{\\vec{a}.\\vec{b}}{\\left\\lVert b \\right\\rVert} = \\left\\lVert a \\right\\rVert cos \\theta\n",
    "$$\n",
    "\n",
    "Then by just multiplying both sides by $\\left\\lVert b \\right\\rVert$ we get a nice symmetric definition of $\\vec{a}.\\vec{b}$.\n",
    "\n",
    "$$\n",
    "\\vec{a}.\\vec{b} = \\left\\lVert a \\right\\rVert \\left\\lVert b \\right\\rVert cos \\theta\n",
    "$$\n",
    "\n",
    "**Some nice properties of *dot product***.\n",
    "\n",
    "* The dot product is positive for acute angle, 0 for right angle and negative for obtuse angle.\n",
    "* The formula for dot product demonstrates that it grows linearly with length of both vectors.\n",
    "* The formula also indicates that dot product is commutative i.e. $\\vec{a}.\\vec{b} = \\vec{b}.\\vec{a}$\n",
    "\n",
    "**Importance in machine learning**\n",
    "Dot product is machine learning is also one of the fundamental operations. Just to give a brief perspective, remember in definition of vectors we considered an example of building a movie recommendation system where each movie is represented as a vector. The elements of vector represents the score of the movie in various genres. e.g. $x_{1}$ represents it's drama score, $x_{2}$ represents it's comedy score and so on. To recommend a movie, a simple recommender system will recommend a movie based on the movies user has already watched (and liked). So if user has watched movie A represented by $\\vec{a}$, the goal is to find a movie which is similar to A. We can use *cosine similarity* where we use dot product to calculate how similar the two vectors are. As we discussed before, the dot product will be positive and higher if the vectors are pointing in the same directions in the vector space and the angle between them is smaller. If there is another movie represented by $\\vec{b}$ which has similar scores as $\\vec{a}$ for various features (comedy, drama, thriller etc), it is likely to give a higher cosine similarity and thus recommended by the algorithm.  \n",
    "\n",
    "Let's see how we do dot product in `numpy`"
   ]
  },
  {
   "cell_type": "code",
   "execution_count": 33,
   "metadata": {},
   "outputs": [
    {
     "data": {
      "text/plain": [
       "array([[7]])"
      ]
     },
     "execution_count": 33,
     "metadata": {},
     "output_type": "execute_result"
    }
   ],
   "source": [
    "x, y = np.array([[-1], [2]]), np.array([[1], [4]])\n",
    "x.T @ y"
   ]
  },
  {
   "cell_type": "markdown",
   "metadata": {},
   "source": [
    "## Vector space, span and subspace.\n",
    "\n",
    "### Vector space\n",
    "\n",
    "In general terms, a *vector space* or *linear space* is a collection of entities that follow the same rules defined for vectors in $\\mathbb{R}^\\textit{n}$. In other words, a *vector space* is a set **V** on which two operations addition (i.e. vector addition) and scaling (i.e. scalar multiplications) are defined. Also, vector addition and multiplication must follow these eight rules:\n",
    "\n",
    "* commutativity: $\\vec{x} + \\vec{y} = \\vec{y} + \\vec{x}$\n",
    "* associativity: $\\vec{x} + (\\vec{y} + \\vec{z}) = (\\vec{x} + \\vec{y}) + \\vec{z}$\n",
    "* Unique zero vector such that: $\\vec{x}+ 0 = \\vec{x}\\quad  \\forall \\quad \\vec{x}$\n",
    "* $\\forall$ x there is a unique vector $\\vec{x}$  such that $\\vec{x} + \\vec{−x}=0$\n",
    "* Identity element of scalar multiplication: $1\\vec{x} = \\vec{x}$\n",
    "* Distributivity of scalar multiplication w.r.t vector addition: \n",
    "    * $\\vec{x}(\\vec{y} + \\vec{z})=\\vec{x}\\vec{z}+ \\vec{z}\\vec{y}$\n",
    "* $\\vec{x}(\\vec{y}\\vec{z})=(\\vec{x}\\vec{y})\\vec{z}$\n",
    "* $(\\vec{y}+ \\vec{z})\\vec{x} = \\vec{y}\\vec{x}+\\vec{z}\\vec{x}$\n",
    "\n",
    "\n",
    "### Vector span\n",
    "\n",
    "Consider the vectors $\\vec{x}$ and $\\vec{y}$ and the scalars $\\alpha$ and $\\beta$. If we take all possible linear combinations of $\\alpha\\vec{x} + \\beta\\vec{y}$, we wil get the *span* of these vectors. In more generic terms, Span represents set of all the possible vectors that can be represented as linear combination of the set.\n",
    "$k_{1}\\vec{v_{1}} + k_{2}\\vec{v_{2}} + ... + k_{n}\\vec{v_{n}}$ where $k_{1}, k_{2}.. k_{n}$ are scalars.\n",
    "\n",
    "Let's try to understand this with some examples:\n",
    "\n",
    "1. If there are two overlapping vectors (i.e. pointing in same direction), their linear combinatio i.e. $\\alpha\\vec{x} + \\beta\\vec{y}$  will just *span* the line in their direction.\n",
    "2. If there are two non-overlapping vectors pointing in different directions, they will *span* the 2-D plan they lie in. Every linear combination of those vectors will represent a vector in that 2-D plane. \n",
    "3. If there are three non-overlapping vectors, their linear combination will span entire 3-D space. This then can be extended to any n-dimension. \n",
    "\n",
    "### Vector subspaces\n",
    "\n",
    "**To be done**\n",
    "\n",
    "### Space, span and linear combination\n",
    "If $\\vec{v}_1,\\vec{v}_2…,\\vec{v}_k$  are vectors from a vector space V, then V contains every linear combination of $\\vec{v}_1,\\vec{v}_2…,\\vec{v}_k$. So V contains the span of {$\\vec{v}_1,\\vec{v}_2…,\\vec{v}_k$}\n",
    "\n",
    "\n",
    "\n",
    "## Linear Dependence and Independence\n",
    "\n",
    "In the theory of vector spaces, a set of vectors is said to be *linearly dependent* if at least one of the vectors in the set can be defined as a linear combination of the others; if no vector in the set can be written in this way, then the vectors are said to be *linearly independent*.\n",
    "\n",
    "In other words, Set of vectors $\\vec{v}$, $\\vec{u}$ and $\\vec{w}$ are linearly independent if the only solution to equation: $a\\vec{v}+b\\vec{u} + c\\vec{w} = 0$ is a = 0, b = 0 and c = 0.\n",
    "In one more definition, we can say a set of vectors are linearly independent if any vector from the set is outside the span of other vectors in the set.\n",
    "$$\n",
    "\\vec{u} \\neq a\\vec{v} + b\\vec{w}\n",
    "$$\n",
    "\n",
    "In terms of thinking from data perspective, If each vector is representing a data point, then linearly dependent vectors contain *redundant* information e.g. one of the feature vector represents length in meters and another feature vectore represents the length in centimeters. However both vectors are presenting the same information. On other hand, linearly independent vectors present unique information."
   ]
  },
  {
   "cell_type": "code",
   "execution_count": null,
   "metadata": {},
   "outputs": [],
   "source": []
  }
 ],
 "metadata": {
  "kernelspec": {
   "display_name": "Python 3",
   "language": "python",
   "name": "python3"
  },
  "language_info": {
   "codemirror_mode": {
    "name": "ipython",
    "version": 3
   },
   "file_extension": ".py",
   "mimetype": "text/x-python",
   "name": "python",
   "nbconvert_exporter": "python",
   "pygments_lexer": "ipython3",
   "version": "3.8.2"
  }
 },
 "nbformat": 4,
 "nbformat_minor": 4
}
